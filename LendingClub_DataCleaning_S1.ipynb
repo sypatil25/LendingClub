{
 "cells": [
  {
   "cell_type": "code",
   "execution_count": 1,
   "id": "316f373c",
   "metadata": {},
   "outputs": [],
   "source": [
    "from pyspark.sql import SparkSession\n",
    "import getpass \n",
    "username=getpass.getuser()\n",
    "spark=SparkSession. \\\n",
    "    builder. \\\n",
    "    config('spark.ui.port','0'). \\\n",
    "    config(\"spark.sql.warehouse.dir\", f\"/user/{username}/warehouse\"). \\\n",
    "    config('spark.shuffle.useOldFetchProtocol', 'true'). \\\n",
    "    enableHiveSupport(). \\\n",
    "    master('yarn'). \\\n",
    "    getOrCreate()"
   ]
  },
  {
   "cell_type": "markdown",
   "id": "b46232c6",
   "metadata": {},
   "source": [
    "#### 1. create a dataframe with proper datatypes "
   ]
  },
  {
   "cell_type": "code",
   "execution_count": 2,
   "id": "e6972ddc",
   "metadata": {},
   "outputs": [],
   "source": [
    "customer_schema = 'member_id string, emp_title string, emp_length string, home_ownership string, annual_inc float, addr_state string, zip_code string, country string, grade string, sub_grade string, verification_status string, tot_hi_cred_lim float, application_type string, annual_inc_joint float, verification_status_joint string'"
   ]
  },
  {
   "cell_type": "code",
   "execution_count": 3,
   "id": "55989da6",
   "metadata": {},
   "outputs": [],
   "source": [
    "customers_raw_df = spark.read \\\n",
    ".format(\"csv\") \\\n",
    ".option(\"header\",True) \\\n",
    ".schema(customer_schema) \\\n",
    ".load(\"/public/trendytech/lendingclubproject/raw/customers_data_csv\")"
   ]
  },
  {
   "cell_type": "code",
   "execution_count": 4,
   "id": "66dde0a2",
   "metadata": {},
   "outputs": [
    {
     "data": {
      "text/html": [
       "<table border='1'>\n",
       "<tr><th>member_id</th><th>emp_title</th><th>emp_length</th><th>home_ownership</th><th>annual_inc</th><th>addr_state</th><th>zip_code</th><th>country</th><th>grade</th><th>sub_grade</th><th>verification_status</th><th>tot_hi_cred_lim</th><th>application_type</th><th>annual_inc_joint</th><th>verification_status_joint</th></tr>\n",
       "<tr><td>b59d80da191f5b573...</td><td>null</td><td>null</td><td>RENT</td><td>50000.0</td><td>OR</td><td>973xx</td><td>USA</td><td>A</td><td>A5</td><td>Source Verified</td><td>8600.0</td><td>Individual</td><td>null</td><td>null</td></tr>\n",
       "<tr><td>202d9f56ecb7c3bc9...</td><td>police officer</td><td>7 years</td><td>OWN</td><td>85000.0</td><td>TX</td><td>799xx</td><td>USA</td><td>A</td><td>A5</td><td>Source Verified</td><td>272384.0</td><td>Individual</td><td>null</td><td>null</td></tr>\n",
       "<tr><td>e5a140c0922b554b9...</td><td>community living ...</td><td>6 years</td><td>RENT</td><td>48000.0</td><td>NY</td><td>146xx</td><td>USA</td><td>B</td><td>B2</td><td>Source Verified</td><td>85092.0</td><td>Individual</td><td>null</td><td>null</td></tr>\n",
       "<tr><td>e12aefc548f750777...</td><td>Office</td><td>10+ years</td><td>OWN</td><td>33000.0</td><td>CT</td><td>067xx</td><td>USA</td><td>F</td><td>F1</td><td>Verified</td><td>7100.0</td><td>Individual</td><td>null</td><td>null</td></tr>\n",
       "<tr><td>1b3a50d854fbbf97e...</td><td>Special Tooling I...</td><td>10+ years</td><td>MORTGAGE</td><td>81000.0</td><td>TX</td><td>791xx</td><td>USA</td><td>E</td><td>E5</td><td>Verified</td><td>190274.0</td><td>Individual</td><td>null</td><td>null</td></tr>\n",
       "<tr><td>1c4329e5f17697127...</td><td>Mine ops tech 6</td><td>2 years</td><td>MORTGAGE</td><td>68000.0</td><td>AZ</td><td>855xx</td><td>USA</td><td>C</td><td>C3</td><td>Not Verified</td><td>182453.0</td><td>Individual</td><td>null</td><td>null</td></tr>\n",
       "<tr><td>5026c86ad983175eb...</td><td>caregiver</td><td>4 years</td><td>RENT</td><td>76020.0</td><td>WA</td><td>993xx</td><td>USA</td><td>C</td><td>C2</td><td>Source Verified</td><td>15308.0</td><td>Individual</td><td>null</td><td>null</td></tr>\n",
       "<tr><td>9847d8c1e9d0b2084...</td><td>null</td><td>null</td><td>OWN</td><td>65000.0</td><td>IL</td><td>624xx</td><td>USA</td><td>E</td><td>E3</td><td>Verified</td><td>128800.0</td><td>Individual</td><td>null</td><td>null</td></tr>\n",
       "<tr><td>8340dbe1adea41fb4...</td><td>Vice President Re...</td><td>8 years</td><td>MORTGAGE</td><td>111000.0</td><td>CT</td><td>063xx</td><td>USA</td><td>A</td><td>A1</td><td>Not Verified</td><td>343507.0</td><td>Individual</td><td>null</td><td>null</td></tr>\n",
       "<tr><td>d4de0de3ab7d79ad4...</td><td>FOREMAN</td><td>10+ years</td><td>MORTGAGE</td><td>67000.0</td><td>WA</td><td>992xx</td><td>USA</td><td>G</td><td>G2</td><td>Verified</td><td>211501.0</td><td>Individual</td><td>null</td><td>null</td></tr>\n",
       "<tr><td>3df3cdeddb74a8712...</td><td>Strategist</td><td>1 year</td><td>RENT</td><td>120000.0</td><td>CA</td><td>946xx</td><td>USA</td><td>A</td><td>A5</td><td>Verified</td><td>56844.0</td><td>Individual</td><td>null</td><td>null</td></tr>\n",
       "<tr><td>9dd72636b1b4045b4...</td><td>Office Manager</td><td>2 years</td><td>RENT</td><td>52000.0</td><td>FL</td><td>327xx</td><td>USA</td><td>D</td><td>D1</td><td>Source Verified</td><td>39393.0</td><td>Individual</td><td>null</td><td>null</td></tr>\n",
       "<tr><td>1d4e1ef4353b73c00...</td><td>Electrician</td><td>2 years</td><td>MORTGAGE</td><td>50000.0</td><td>IL</td><td>606xx</td><td>USA</td><td>C</td><td>C3</td><td>Not Verified</td><td>66064.0</td><td>Individual</td><td>null</td><td>null</td></tr>\n",
       "<tr><td>6f196952e71277fd4...</td><td>Finance Manager</td><td>1 year</td><td>MORTGAGE</td><td>125000.0</td><td>GA</td><td>310xx</td><td>USA</td><td>E</td><td>E2</td><td>Source Verified</td><td>555591.0</td><td>Individual</td><td>null</td><td>null</td></tr>\n",
       "<tr><td>9c617cbc6e3e3d6a1...</td><td>Nurse practitioner</td><td>5 years</td><td>MORTGAGE</td><td>165000.0</td><td>IL</td><td>610xx</td><td>USA</td><td>F</td><td>F1</td><td>Source Verified</td><td>366113.0</td><td>Individual</td><td>null</td><td>null</td></tr>\n",
       "<tr><td>45eb04dd75400a942...</td><td>equipment operator</td><td>3 years</td><td>MORTGAGE</td><td>60000.0</td><td>CT</td><td>064xx</td><td>USA</td><td>C</td><td>C4</td><td>Source Verified</td><td>198693.0</td><td>Individual</td><td>null</td><td>null</td></tr>\n",
       "<tr><td>08d233c81f9e50726...</td><td>caregiver</td><td>2 years</td><td>RENT</td><td>36000.0</td><td>MO</td><td>648xx</td><td>USA</td><td>C</td><td>C1</td><td>Source Verified</td><td>14477.0</td><td>Individual</td><td>null</td><td>null</td></tr>\n",
       "<tr><td>8ff4d0ed17a1cab92...</td><td>owner</td><td>10+ years</td><td>MORTGAGE</td><td>28000.0</td><td>CO</td><td>801xx</td><td>USA</td><td>D</td><td>D1</td><td>Verified</td><td>314400.0</td><td>Individual</td><td>null</td><td>null</td></tr>\n",
       "<tr><td>aec13cfd611b2cfea...</td><td>Community Supervi...</td><td>2 years</td><td>RENT</td><td>33000.0</td><td>GA</td><td>306xx</td><td>USA</td><td>D</td><td>D2</td><td>Source Verified</td><td>188700.0</td><td>Individual</td><td>null</td><td>null</td></tr>\n",
       "<tr><td>9ba8c96ccba6cd1f0...</td><td>Contract Specialist</td><td>5 years</td><td>MORTGAGE</td><td>74700.0</td><td>UT</td><td>844xx</td><td>USA</td><td>D</td><td>D4</td><td>Verified</td><td>614272.0</td><td>Individual</td><td>null</td><td>null</td></tr>\n",
       "</table>\n",
       "only showing top 20 rows\n"
      ],
      "text/plain": [
       "+--------------------+--------------------+----------+--------------+----------+----------+--------+-------+-----+---------+-------------------+---------------+----------------+----------------+-------------------------+\n",
       "|           member_id|           emp_title|emp_length|home_ownership|annual_inc|addr_state|zip_code|country|grade|sub_grade|verification_status|tot_hi_cred_lim|application_type|annual_inc_joint|verification_status_joint|\n",
       "+--------------------+--------------------+----------+--------------+----------+----------+--------+-------+-----+---------+-------------------+---------------+----------------+----------------+-------------------------+\n",
       "|b59d80da191f5b573...|                null|      null|          RENT|   50000.0|        OR|   973xx|    USA|    A|       A5|    Source Verified|         8600.0|      Individual|            null|                     null|\n",
       "|202d9f56ecb7c3bc9...|      police officer|   7 years|           OWN|   85000.0|        TX|   799xx|    USA|    A|       A5|    Source Verified|       272384.0|      Individual|            null|                     null|\n",
       "|e5a140c0922b554b9...|community living ...|   6 years|          RENT|   48000.0|        NY|   146xx|    USA|    B|       B2|    Source Verified|        85092.0|      Individual|            null|                     null|\n",
       "|e12aefc548f750777...|              Office| 10+ years|           OWN|   33000.0|        CT|   067xx|    USA|    F|       F1|           Verified|         7100.0|      Individual|            null|                     null|\n",
       "|1b3a50d854fbbf97e...|Special Tooling I...| 10+ years|      MORTGAGE|   81000.0|        TX|   791xx|    USA|    E|       E5|           Verified|       190274.0|      Individual|            null|                     null|\n",
       "|1c4329e5f17697127...|     Mine ops tech 6|   2 years|      MORTGAGE|   68000.0|        AZ|   855xx|    USA|    C|       C3|       Not Verified|       182453.0|      Individual|            null|                     null|\n",
       "|5026c86ad983175eb...|           caregiver|   4 years|          RENT|   76020.0|        WA|   993xx|    USA|    C|       C2|    Source Verified|        15308.0|      Individual|            null|                     null|\n",
       "|9847d8c1e9d0b2084...|                null|      null|           OWN|   65000.0|        IL|   624xx|    USA|    E|       E3|           Verified|       128800.0|      Individual|            null|                     null|\n",
       "|8340dbe1adea41fb4...|Vice President Re...|   8 years|      MORTGAGE|  111000.0|        CT|   063xx|    USA|    A|       A1|       Not Verified|       343507.0|      Individual|            null|                     null|\n",
       "|d4de0de3ab7d79ad4...|             FOREMAN| 10+ years|      MORTGAGE|   67000.0|        WA|   992xx|    USA|    G|       G2|           Verified|       211501.0|      Individual|            null|                     null|\n",
       "|3df3cdeddb74a8712...|          Strategist|    1 year|          RENT|  120000.0|        CA|   946xx|    USA|    A|       A5|           Verified|        56844.0|      Individual|            null|                     null|\n",
       "|9dd72636b1b4045b4...|      Office Manager|   2 years|          RENT|   52000.0|        FL|   327xx|    USA|    D|       D1|    Source Verified|        39393.0|      Individual|            null|                     null|\n",
       "|1d4e1ef4353b73c00...|         Electrician|   2 years|      MORTGAGE|   50000.0|        IL|   606xx|    USA|    C|       C3|       Not Verified|        66064.0|      Individual|            null|                     null|\n",
       "|6f196952e71277fd4...|     Finance Manager|    1 year|      MORTGAGE|  125000.0|        GA|   310xx|    USA|    E|       E2|    Source Verified|       555591.0|      Individual|            null|                     null|\n",
       "|9c617cbc6e3e3d6a1...|  Nurse practitioner|   5 years|      MORTGAGE|  165000.0|        IL|   610xx|    USA|    F|       F1|    Source Verified|       366113.0|      Individual|            null|                     null|\n",
       "|45eb04dd75400a942...|  equipment operator|   3 years|      MORTGAGE|   60000.0|        CT|   064xx|    USA|    C|       C4|    Source Verified|       198693.0|      Individual|            null|                     null|\n",
       "|08d233c81f9e50726...|           caregiver|   2 years|          RENT|   36000.0|        MO|   648xx|    USA|    C|       C1|    Source Verified|        14477.0|      Individual|            null|                     null|\n",
       "|8ff4d0ed17a1cab92...|               owner| 10+ years|      MORTGAGE|   28000.0|        CO|   801xx|    USA|    D|       D1|           Verified|       314400.0|      Individual|            null|                     null|\n",
       "|aec13cfd611b2cfea...|Community Supervi...|   2 years|          RENT|   33000.0|        GA|   306xx|    USA|    D|       D2|    Source Verified|       188700.0|      Individual|            null|                     null|\n",
       "|9ba8c96ccba6cd1f0...| Contract Specialist|   5 years|      MORTGAGE|   74700.0|        UT|   844xx|    USA|    D|       D4|           Verified|       614272.0|      Individual|            null|                     null|\n",
       "+--------------------+--------------------+----------+--------------+----------+----------+--------+-------+-----+---------+-------------------+---------------+----------------+----------------+-------------------------+\n",
       "only showing top 20 rows"
      ]
     },
     "execution_count": 4,
     "metadata": {},
     "output_type": "execute_result"
    }
   ],
   "source": [
    "customers_raw_df"
   ]
  },
  {
   "cell_type": "code",
   "execution_count": 5,
   "id": "86b8c49d",
   "metadata": {},
   "outputs": [
    {
     "name": "stdout",
     "output_type": "stream",
     "text": [
      "root\n",
      " |-- member_id: string (nullable = true)\n",
      " |-- emp_title: string (nullable = true)\n",
      " |-- emp_length: string (nullable = true)\n",
      " |-- home_ownership: string (nullable = true)\n",
      " |-- annual_inc: float (nullable = true)\n",
      " |-- addr_state: string (nullable = true)\n",
      " |-- zip_code: string (nullable = true)\n",
      " |-- country: string (nullable = true)\n",
      " |-- grade: string (nullable = true)\n",
      " |-- sub_grade: string (nullable = true)\n",
      " |-- verification_status: string (nullable = true)\n",
      " |-- tot_hi_cred_lim: float (nullable = true)\n",
      " |-- application_type: string (nullable = true)\n",
      " |-- annual_inc_joint: float (nullable = true)\n",
      " |-- verification_status_joint: string (nullable = true)\n",
      "\n"
     ]
    }
   ],
   "source": [
    "customers_raw_df.printSchema()"
   ]
  },
  {
   "cell_type": "markdown",
   "id": "acddc281",
   "metadata": {},
   "source": [
    "#### 2. Rename a few columns"
   ]
  },
  {
   "cell_type": "code",
   "execution_count": 6,
   "id": "a3a5494f",
   "metadata": {},
   "outputs": [],
   "source": [
    "customer_df_renamed = customers_raw_df.withColumnRenamed(\"annual_inc\", \"annual_income\") \\\n",
    ".withColumnRenamed(\"addr_state\", \"address_state\") \\\n",
    ".withColumnRenamed(\"zip_code\", \"address_zipcode\") \\\n",
    ".withColumnRenamed(\"country\", \"address_country\") \\\n",
    ".withColumnRenamed(\"tot_hi_credit_lim\", \"total_high_credit_limit\") \\\n",
    ".withColumnRenamed(\"annual_inc_joint\", \"join_annual_income\")"
   ]
  },
  {
   "cell_type": "code",
   "execution_count": 7,
   "id": "bddff0d4",
   "metadata": {},
   "outputs": [
    {
     "data": {
      "text/html": [
       "<table border='1'>\n",
       "<tr><th>member_id</th><th>emp_title</th><th>emp_length</th><th>home_ownership</th><th>annual_income</th><th>address_state</th><th>address_zipcode</th><th>address_country</th><th>grade</th><th>sub_grade</th><th>verification_status</th><th>tot_hi_cred_lim</th><th>application_type</th><th>join_annual_income</th><th>verification_status_joint</th></tr>\n",
       "<tr><td>b59d80da191f5b573...</td><td>null</td><td>null</td><td>RENT</td><td>50000.0</td><td>OR</td><td>973xx</td><td>USA</td><td>A</td><td>A5</td><td>Source Verified</td><td>8600.0</td><td>Individual</td><td>null</td><td>null</td></tr>\n",
       "<tr><td>202d9f56ecb7c3bc9...</td><td>police officer</td><td>7 years</td><td>OWN</td><td>85000.0</td><td>TX</td><td>799xx</td><td>USA</td><td>A</td><td>A5</td><td>Source Verified</td><td>272384.0</td><td>Individual</td><td>null</td><td>null</td></tr>\n",
       "<tr><td>e5a140c0922b554b9...</td><td>community living ...</td><td>6 years</td><td>RENT</td><td>48000.0</td><td>NY</td><td>146xx</td><td>USA</td><td>B</td><td>B2</td><td>Source Verified</td><td>85092.0</td><td>Individual</td><td>null</td><td>null</td></tr>\n",
       "<tr><td>e12aefc548f750777...</td><td>Office</td><td>10+ years</td><td>OWN</td><td>33000.0</td><td>CT</td><td>067xx</td><td>USA</td><td>F</td><td>F1</td><td>Verified</td><td>7100.0</td><td>Individual</td><td>null</td><td>null</td></tr>\n",
       "<tr><td>1b3a50d854fbbf97e...</td><td>Special Tooling I...</td><td>10+ years</td><td>MORTGAGE</td><td>81000.0</td><td>TX</td><td>791xx</td><td>USA</td><td>E</td><td>E5</td><td>Verified</td><td>190274.0</td><td>Individual</td><td>null</td><td>null</td></tr>\n",
       "<tr><td>1c4329e5f17697127...</td><td>Mine ops tech 6</td><td>2 years</td><td>MORTGAGE</td><td>68000.0</td><td>AZ</td><td>855xx</td><td>USA</td><td>C</td><td>C3</td><td>Not Verified</td><td>182453.0</td><td>Individual</td><td>null</td><td>null</td></tr>\n",
       "<tr><td>5026c86ad983175eb...</td><td>caregiver</td><td>4 years</td><td>RENT</td><td>76020.0</td><td>WA</td><td>993xx</td><td>USA</td><td>C</td><td>C2</td><td>Source Verified</td><td>15308.0</td><td>Individual</td><td>null</td><td>null</td></tr>\n",
       "<tr><td>9847d8c1e9d0b2084...</td><td>null</td><td>null</td><td>OWN</td><td>65000.0</td><td>IL</td><td>624xx</td><td>USA</td><td>E</td><td>E3</td><td>Verified</td><td>128800.0</td><td>Individual</td><td>null</td><td>null</td></tr>\n",
       "<tr><td>8340dbe1adea41fb4...</td><td>Vice President Re...</td><td>8 years</td><td>MORTGAGE</td><td>111000.0</td><td>CT</td><td>063xx</td><td>USA</td><td>A</td><td>A1</td><td>Not Verified</td><td>343507.0</td><td>Individual</td><td>null</td><td>null</td></tr>\n",
       "<tr><td>d4de0de3ab7d79ad4...</td><td>FOREMAN</td><td>10+ years</td><td>MORTGAGE</td><td>67000.0</td><td>WA</td><td>992xx</td><td>USA</td><td>G</td><td>G2</td><td>Verified</td><td>211501.0</td><td>Individual</td><td>null</td><td>null</td></tr>\n",
       "<tr><td>3df3cdeddb74a8712...</td><td>Strategist</td><td>1 year</td><td>RENT</td><td>120000.0</td><td>CA</td><td>946xx</td><td>USA</td><td>A</td><td>A5</td><td>Verified</td><td>56844.0</td><td>Individual</td><td>null</td><td>null</td></tr>\n",
       "<tr><td>9dd72636b1b4045b4...</td><td>Office Manager</td><td>2 years</td><td>RENT</td><td>52000.0</td><td>FL</td><td>327xx</td><td>USA</td><td>D</td><td>D1</td><td>Source Verified</td><td>39393.0</td><td>Individual</td><td>null</td><td>null</td></tr>\n",
       "<tr><td>1d4e1ef4353b73c00...</td><td>Electrician</td><td>2 years</td><td>MORTGAGE</td><td>50000.0</td><td>IL</td><td>606xx</td><td>USA</td><td>C</td><td>C3</td><td>Not Verified</td><td>66064.0</td><td>Individual</td><td>null</td><td>null</td></tr>\n",
       "<tr><td>6f196952e71277fd4...</td><td>Finance Manager</td><td>1 year</td><td>MORTGAGE</td><td>125000.0</td><td>GA</td><td>310xx</td><td>USA</td><td>E</td><td>E2</td><td>Source Verified</td><td>555591.0</td><td>Individual</td><td>null</td><td>null</td></tr>\n",
       "<tr><td>9c617cbc6e3e3d6a1...</td><td>Nurse practitioner</td><td>5 years</td><td>MORTGAGE</td><td>165000.0</td><td>IL</td><td>610xx</td><td>USA</td><td>F</td><td>F1</td><td>Source Verified</td><td>366113.0</td><td>Individual</td><td>null</td><td>null</td></tr>\n",
       "<tr><td>45eb04dd75400a942...</td><td>equipment operator</td><td>3 years</td><td>MORTGAGE</td><td>60000.0</td><td>CT</td><td>064xx</td><td>USA</td><td>C</td><td>C4</td><td>Source Verified</td><td>198693.0</td><td>Individual</td><td>null</td><td>null</td></tr>\n",
       "<tr><td>08d233c81f9e50726...</td><td>caregiver</td><td>2 years</td><td>RENT</td><td>36000.0</td><td>MO</td><td>648xx</td><td>USA</td><td>C</td><td>C1</td><td>Source Verified</td><td>14477.0</td><td>Individual</td><td>null</td><td>null</td></tr>\n",
       "<tr><td>8ff4d0ed17a1cab92...</td><td>owner</td><td>10+ years</td><td>MORTGAGE</td><td>28000.0</td><td>CO</td><td>801xx</td><td>USA</td><td>D</td><td>D1</td><td>Verified</td><td>314400.0</td><td>Individual</td><td>null</td><td>null</td></tr>\n",
       "<tr><td>aec13cfd611b2cfea...</td><td>Community Supervi...</td><td>2 years</td><td>RENT</td><td>33000.0</td><td>GA</td><td>306xx</td><td>USA</td><td>D</td><td>D2</td><td>Source Verified</td><td>188700.0</td><td>Individual</td><td>null</td><td>null</td></tr>\n",
       "<tr><td>9ba8c96ccba6cd1f0...</td><td>Contract Specialist</td><td>5 years</td><td>MORTGAGE</td><td>74700.0</td><td>UT</td><td>844xx</td><td>USA</td><td>D</td><td>D4</td><td>Verified</td><td>614272.0</td><td>Individual</td><td>null</td><td>null</td></tr>\n",
       "</table>\n",
       "only showing top 20 rows\n"
      ],
      "text/plain": [
       "+--------------------+--------------------+----------+--------------+-------------+-------------+---------------+---------------+-----+---------+-------------------+---------------+----------------+------------------+-------------------------+\n",
       "|           member_id|           emp_title|emp_length|home_ownership|annual_income|address_state|address_zipcode|address_country|grade|sub_grade|verification_status|tot_hi_cred_lim|application_type|join_annual_income|verification_status_joint|\n",
       "+--------------------+--------------------+----------+--------------+-------------+-------------+---------------+---------------+-----+---------+-------------------+---------------+----------------+------------------+-------------------------+\n",
       "|b59d80da191f5b573...|                null|      null|          RENT|      50000.0|           OR|          973xx|            USA|    A|       A5|    Source Verified|         8600.0|      Individual|              null|                     null|\n",
       "|202d9f56ecb7c3bc9...|      police officer|   7 years|           OWN|      85000.0|           TX|          799xx|            USA|    A|       A5|    Source Verified|       272384.0|      Individual|              null|                     null|\n",
       "|e5a140c0922b554b9...|community living ...|   6 years|          RENT|      48000.0|           NY|          146xx|            USA|    B|       B2|    Source Verified|        85092.0|      Individual|              null|                     null|\n",
       "|e12aefc548f750777...|              Office| 10+ years|           OWN|      33000.0|           CT|          067xx|            USA|    F|       F1|           Verified|         7100.0|      Individual|              null|                     null|\n",
       "|1b3a50d854fbbf97e...|Special Tooling I...| 10+ years|      MORTGAGE|      81000.0|           TX|          791xx|            USA|    E|       E5|           Verified|       190274.0|      Individual|              null|                     null|\n",
       "|1c4329e5f17697127...|     Mine ops tech 6|   2 years|      MORTGAGE|      68000.0|           AZ|          855xx|            USA|    C|       C3|       Not Verified|       182453.0|      Individual|              null|                     null|\n",
       "|5026c86ad983175eb...|           caregiver|   4 years|          RENT|      76020.0|           WA|          993xx|            USA|    C|       C2|    Source Verified|        15308.0|      Individual|              null|                     null|\n",
       "|9847d8c1e9d0b2084...|                null|      null|           OWN|      65000.0|           IL|          624xx|            USA|    E|       E3|           Verified|       128800.0|      Individual|              null|                     null|\n",
       "|8340dbe1adea41fb4...|Vice President Re...|   8 years|      MORTGAGE|     111000.0|           CT|          063xx|            USA|    A|       A1|       Not Verified|       343507.0|      Individual|              null|                     null|\n",
       "|d4de0de3ab7d79ad4...|             FOREMAN| 10+ years|      MORTGAGE|      67000.0|           WA|          992xx|            USA|    G|       G2|           Verified|       211501.0|      Individual|              null|                     null|\n",
       "|3df3cdeddb74a8712...|          Strategist|    1 year|          RENT|     120000.0|           CA|          946xx|            USA|    A|       A5|           Verified|        56844.0|      Individual|              null|                     null|\n",
       "|9dd72636b1b4045b4...|      Office Manager|   2 years|          RENT|      52000.0|           FL|          327xx|            USA|    D|       D1|    Source Verified|        39393.0|      Individual|              null|                     null|\n",
       "|1d4e1ef4353b73c00...|         Electrician|   2 years|      MORTGAGE|      50000.0|           IL|          606xx|            USA|    C|       C3|       Not Verified|        66064.0|      Individual|              null|                     null|\n",
       "|6f196952e71277fd4...|     Finance Manager|    1 year|      MORTGAGE|     125000.0|           GA|          310xx|            USA|    E|       E2|    Source Verified|       555591.0|      Individual|              null|                     null|\n",
       "|9c617cbc6e3e3d6a1...|  Nurse practitioner|   5 years|      MORTGAGE|     165000.0|           IL|          610xx|            USA|    F|       F1|    Source Verified|       366113.0|      Individual|              null|                     null|\n",
       "|45eb04dd75400a942...|  equipment operator|   3 years|      MORTGAGE|      60000.0|           CT|          064xx|            USA|    C|       C4|    Source Verified|       198693.0|      Individual|              null|                     null|\n",
       "|08d233c81f9e50726...|           caregiver|   2 years|          RENT|      36000.0|           MO|          648xx|            USA|    C|       C1|    Source Verified|        14477.0|      Individual|              null|                     null|\n",
       "|8ff4d0ed17a1cab92...|               owner| 10+ years|      MORTGAGE|      28000.0|           CO|          801xx|            USA|    D|       D1|           Verified|       314400.0|      Individual|              null|                     null|\n",
       "|aec13cfd611b2cfea...|Community Supervi...|   2 years|          RENT|      33000.0|           GA|          306xx|            USA|    D|       D2|    Source Verified|       188700.0|      Individual|              null|                     null|\n",
       "|9ba8c96ccba6cd1f0...| Contract Specialist|   5 years|      MORTGAGE|      74700.0|           UT|          844xx|            USA|    D|       D4|           Verified|       614272.0|      Individual|              null|                     null|\n",
       "+--------------------+--------------------+----------+--------------+-------------+-------------+---------------+---------------+-----+---------+-------------------+---------------+----------------+------------------+-------------------------+\n",
       "only showing top 20 rows"
      ]
     },
     "execution_count": 7,
     "metadata": {},
     "output_type": "execute_result"
    }
   ],
   "source": [
    "customer_df_renamed"
   ]
  },
  {
   "cell_type": "code",
   "execution_count": 8,
   "id": "d8379357",
   "metadata": {},
   "outputs": [],
   "source": [
    "from pyspark.sql.functions import current_timestamp"
   ]
  },
  {
   "cell_type": "markdown",
   "id": "c82b8226",
   "metadata": {},
   "source": [
    "#### 3. insert a new column named as ingestion date(current time)"
   ]
  },
  {
   "cell_type": "code",
   "execution_count": 9,
   "id": "9c60e7d4",
   "metadata": {},
   "outputs": [],
   "source": [
    "customers_df_ingestd = customer_df_renamed.withColumn(\"ingest_date\", current_timestamp())"
   ]
  },
  {
   "cell_type": "code",
   "execution_count": 10,
   "id": "9e89ff1a",
   "metadata": {},
   "outputs": [
    {
     "data": {
      "text/html": [
       "<table border='1'>\n",
       "<tr><th>member_id</th><th>emp_title</th><th>emp_length</th><th>home_ownership</th><th>annual_income</th><th>address_state</th><th>address_zipcode</th><th>address_country</th><th>grade</th><th>sub_grade</th><th>verification_status</th><th>tot_hi_cred_lim</th><th>application_type</th><th>join_annual_income</th><th>verification_status_joint</th><th>ingest_date</th></tr>\n",
       "<tr><td>b59d80da191f5b573...</td><td>null</td><td>null</td><td>RENT</td><td>50000.0</td><td>OR</td><td>973xx</td><td>USA</td><td>A</td><td>A5</td><td>Source Verified</td><td>8600.0</td><td>Individual</td><td>null</td><td>null</td><td>2023-10-04 05:37:...</td></tr>\n",
       "<tr><td>202d9f56ecb7c3bc9...</td><td>police officer</td><td>7 years</td><td>OWN</td><td>85000.0</td><td>TX</td><td>799xx</td><td>USA</td><td>A</td><td>A5</td><td>Source Verified</td><td>272384.0</td><td>Individual</td><td>null</td><td>null</td><td>2023-10-04 05:37:...</td></tr>\n",
       "<tr><td>e5a140c0922b554b9...</td><td>community living ...</td><td>6 years</td><td>RENT</td><td>48000.0</td><td>NY</td><td>146xx</td><td>USA</td><td>B</td><td>B2</td><td>Source Verified</td><td>85092.0</td><td>Individual</td><td>null</td><td>null</td><td>2023-10-04 05:37:...</td></tr>\n",
       "<tr><td>e12aefc548f750777...</td><td>Office</td><td>10+ years</td><td>OWN</td><td>33000.0</td><td>CT</td><td>067xx</td><td>USA</td><td>F</td><td>F1</td><td>Verified</td><td>7100.0</td><td>Individual</td><td>null</td><td>null</td><td>2023-10-04 05:37:...</td></tr>\n",
       "<tr><td>1b3a50d854fbbf97e...</td><td>Special Tooling I...</td><td>10+ years</td><td>MORTGAGE</td><td>81000.0</td><td>TX</td><td>791xx</td><td>USA</td><td>E</td><td>E5</td><td>Verified</td><td>190274.0</td><td>Individual</td><td>null</td><td>null</td><td>2023-10-04 05:37:...</td></tr>\n",
       "<tr><td>1c4329e5f17697127...</td><td>Mine ops tech 6</td><td>2 years</td><td>MORTGAGE</td><td>68000.0</td><td>AZ</td><td>855xx</td><td>USA</td><td>C</td><td>C3</td><td>Not Verified</td><td>182453.0</td><td>Individual</td><td>null</td><td>null</td><td>2023-10-04 05:37:...</td></tr>\n",
       "<tr><td>5026c86ad983175eb...</td><td>caregiver</td><td>4 years</td><td>RENT</td><td>76020.0</td><td>WA</td><td>993xx</td><td>USA</td><td>C</td><td>C2</td><td>Source Verified</td><td>15308.0</td><td>Individual</td><td>null</td><td>null</td><td>2023-10-04 05:37:...</td></tr>\n",
       "<tr><td>9847d8c1e9d0b2084...</td><td>null</td><td>null</td><td>OWN</td><td>65000.0</td><td>IL</td><td>624xx</td><td>USA</td><td>E</td><td>E3</td><td>Verified</td><td>128800.0</td><td>Individual</td><td>null</td><td>null</td><td>2023-10-04 05:37:...</td></tr>\n",
       "<tr><td>8340dbe1adea41fb4...</td><td>Vice President Re...</td><td>8 years</td><td>MORTGAGE</td><td>111000.0</td><td>CT</td><td>063xx</td><td>USA</td><td>A</td><td>A1</td><td>Not Verified</td><td>343507.0</td><td>Individual</td><td>null</td><td>null</td><td>2023-10-04 05:37:...</td></tr>\n",
       "<tr><td>d4de0de3ab7d79ad4...</td><td>FOREMAN</td><td>10+ years</td><td>MORTGAGE</td><td>67000.0</td><td>WA</td><td>992xx</td><td>USA</td><td>G</td><td>G2</td><td>Verified</td><td>211501.0</td><td>Individual</td><td>null</td><td>null</td><td>2023-10-04 05:37:...</td></tr>\n",
       "<tr><td>3df3cdeddb74a8712...</td><td>Strategist</td><td>1 year</td><td>RENT</td><td>120000.0</td><td>CA</td><td>946xx</td><td>USA</td><td>A</td><td>A5</td><td>Verified</td><td>56844.0</td><td>Individual</td><td>null</td><td>null</td><td>2023-10-04 05:37:...</td></tr>\n",
       "<tr><td>9dd72636b1b4045b4...</td><td>Office Manager</td><td>2 years</td><td>RENT</td><td>52000.0</td><td>FL</td><td>327xx</td><td>USA</td><td>D</td><td>D1</td><td>Source Verified</td><td>39393.0</td><td>Individual</td><td>null</td><td>null</td><td>2023-10-04 05:37:...</td></tr>\n",
       "<tr><td>1d4e1ef4353b73c00...</td><td>Electrician</td><td>2 years</td><td>MORTGAGE</td><td>50000.0</td><td>IL</td><td>606xx</td><td>USA</td><td>C</td><td>C3</td><td>Not Verified</td><td>66064.0</td><td>Individual</td><td>null</td><td>null</td><td>2023-10-04 05:37:...</td></tr>\n",
       "<tr><td>6f196952e71277fd4...</td><td>Finance Manager</td><td>1 year</td><td>MORTGAGE</td><td>125000.0</td><td>GA</td><td>310xx</td><td>USA</td><td>E</td><td>E2</td><td>Source Verified</td><td>555591.0</td><td>Individual</td><td>null</td><td>null</td><td>2023-10-04 05:37:...</td></tr>\n",
       "<tr><td>9c617cbc6e3e3d6a1...</td><td>Nurse practitioner</td><td>5 years</td><td>MORTGAGE</td><td>165000.0</td><td>IL</td><td>610xx</td><td>USA</td><td>F</td><td>F1</td><td>Source Verified</td><td>366113.0</td><td>Individual</td><td>null</td><td>null</td><td>2023-10-04 05:37:...</td></tr>\n",
       "<tr><td>45eb04dd75400a942...</td><td>equipment operator</td><td>3 years</td><td>MORTGAGE</td><td>60000.0</td><td>CT</td><td>064xx</td><td>USA</td><td>C</td><td>C4</td><td>Source Verified</td><td>198693.0</td><td>Individual</td><td>null</td><td>null</td><td>2023-10-04 05:37:...</td></tr>\n",
       "<tr><td>08d233c81f9e50726...</td><td>caregiver</td><td>2 years</td><td>RENT</td><td>36000.0</td><td>MO</td><td>648xx</td><td>USA</td><td>C</td><td>C1</td><td>Source Verified</td><td>14477.0</td><td>Individual</td><td>null</td><td>null</td><td>2023-10-04 05:37:...</td></tr>\n",
       "<tr><td>8ff4d0ed17a1cab92...</td><td>owner</td><td>10+ years</td><td>MORTGAGE</td><td>28000.0</td><td>CO</td><td>801xx</td><td>USA</td><td>D</td><td>D1</td><td>Verified</td><td>314400.0</td><td>Individual</td><td>null</td><td>null</td><td>2023-10-04 05:37:...</td></tr>\n",
       "<tr><td>aec13cfd611b2cfea...</td><td>Community Supervi...</td><td>2 years</td><td>RENT</td><td>33000.0</td><td>GA</td><td>306xx</td><td>USA</td><td>D</td><td>D2</td><td>Source Verified</td><td>188700.0</td><td>Individual</td><td>null</td><td>null</td><td>2023-10-04 05:37:...</td></tr>\n",
       "<tr><td>9ba8c96ccba6cd1f0...</td><td>Contract Specialist</td><td>5 years</td><td>MORTGAGE</td><td>74700.0</td><td>UT</td><td>844xx</td><td>USA</td><td>D</td><td>D4</td><td>Verified</td><td>614272.0</td><td>Individual</td><td>null</td><td>null</td><td>2023-10-04 05:37:...</td></tr>\n",
       "</table>\n",
       "only showing top 20 rows\n"
      ],
      "text/plain": [
       "+--------------------+--------------------+----------+--------------+-------------+-------------+---------------+---------------+-----+---------+-------------------+---------------+----------------+------------------+-------------------------+--------------------+\n",
       "|           member_id|           emp_title|emp_length|home_ownership|annual_income|address_state|address_zipcode|address_country|grade|sub_grade|verification_status|tot_hi_cred_lim|application_type|join_annual_income|verification_status_joint|         ingest_date|\n",
       "+--------------------+--------------------+----------+--------------+-------------+-------------+---------------+---------------+-----+---------+-------------------+---------------+----------------+------------------+-------------------------+--------------------+\n",
       "|b59d80da191f5b573...|                null|      null|          RENT|      50000.0|           OR|          973xx|            USA|    A|       A5|    Source Verified|         8600.0|      Individual|              null|                     null|2023-10-04 05:37:...|\n",
       "|202d9f56ecb7c3bc9...|      police officer|   7 years|           OWN|      85000.0|           TX|          799xx|            USA|    A|       A5|    Source Verified|       272384.0|      Individual|              null|                     null|2023-10-04 05:37:...|\n",
       "|e5a140c0922b554b9...|community living ...|   6 years|          RENT|      48000.0|           NY|          146xx|            USA|    B|       B2|    Source Verified|        85092.0|      Individual|              null|                     null|2023-10-04 05:37:...|\n",
       "|e12aefc548f750777...|              Office| 10+ years|           OWN|      33000.0|           CT|          067xx|            USA|    F|       F1|           Verified|         7100.0|      Individual|              null|                     null|2023-10-04 05:37:...|\n",
       "|1b3a50d854fbbf97e...|Special Tooling I...| 10+ years|      MORTGAGE|      81000.0|           TX|          791xx|            USA|    E|       E5|           Verified|       190274.0|      Individual|              null|                     null|2023-10-04 05:37:...|\n",
       "|1c4329e5f17697127...|     Mine ops tech 6|   2 years|      MORTGAGE|      68000.0|           AZ|          855xx|            USA|    C|       C3|       Not Verified|       182453.0|      Individual|              null|                     null|2023-10-04 05:37:...|\n",
       "|5026c86ad983175eb...|           caregiver|   4 years|          RENT|      76020.0|           WA|          993xx|            USA|    C|       C2|    Source Verified|        15308.0|      Individual|              null|                     null|2023-10-04 05:37:...|\n",
       "|9847d8c1e9d0b2084...|                null|      null|           OWN|      65000.0|           IL|          624xx|            USA|    E|       E3|           Verified|       128800.0|      Individual|              null|                     null|2023-10-04 05:37:...|\n",
       "|8340dbe1adea41fb4...|Vice President Re...|   8 years|      MORTGAGE|     111000.0|           CT|          063xx|            USA|    A|       A1|       Not Verified|       343507.0|      Individual|              null|                     null|2023-10-04 05:37:...|\n",
       "|d4de0de3ab7d79ad4...|             FOREMAN| 10+ years|      MORTGAGE|      67000.0|           WA|          992xx|            USA|    G|       G2|           Verified|       211501.0|      Individual|              null|                     null|2023-10-04 05:37:...|\n",
       "|3df3cdeddb74a8712...|          Strategist|    1 year|          RENT|     120000.0|           CA|          946xx|            USA|    A|       A5|           Verified|        56844.0|      Individual|              null|                     null|2023-10-04 05:37:...|\n",
       "|9dd72636b1b4045b4...|      Office Manager|   2 years|          RENT|      52000.0|           FL|          327xx|            USA|    D|       D1|    Source Verified|        39393.0|      Individual|              null|                     null|2023-10-04 05:37:...|\n",
       "|1d4e1ef4353b73c00...|         Electrician|   2 years|      MORTGAGE|      50000.0|           IL|          606xx|            USA|    C|       C3|       Not Verified|        66064.0|      Individual|              null|                     null|2023-10-04 05:37:...|\n",
       "|6f196952e71277fd4...|     Finance Manager|    1 year|      MORTGAGE|     125000.0|           GA|          310xx|            USA|    E|       E2|    Source Verified|       555591.0|      Individual|              null|                     null|2023-10-04 05:37:...|\n",
       "|9c617cbc6e3e3d6a1...|  Nurse practitioner|   5 years|      MORTGAGE|     165000.0|           IL|          610xx|            USA|    F|       F1|    Source Verified|       366113.0|      Individual|              null|                     null|2023-10-04 05:37:...|\n",
       "|45eb04dd75400a942...|  equipment operator|   3 years|      MORTGAGE|      60000.0|           CT|          064xx|            USA|    C|       C4|    Source Verified|       198693.0|      Individual|              null|                     null|2023-10-04 05:37:...|\n",
       "|08d233c81f9e50726...|           caregiver|   2 years|          RENT|      36000.0|           MO|          648xx|            USA|    C|       C1|    Source Verified|        14477.0|      Individual|              null|                     null|2023-10-04 05:37:...|\n",
       "|8ff4d0ed17a1cab92...|               owner| 10+ years|      MORTGAGE|      28000.0|           CO|          801xx|            USA|    D|       D1|           Verified|       314400.0|      Individual|              null|                     null|2023-10-04 05:37:...|\n",
       "|aec13cfd611b2cfea...|Community Supervi...|   2 years|          RENT|      33000.0|           GA|          306xx|            USA|    D|       D2|    Source Verified|       188700.0|      Individual|              null|                     null|2023-10-04 05:37:...|\n",
       "|9ba8c96ccba6cd1f0...| Contract Specialist|   5 years|      MORTGAGE|      74700.0|           UT|          844xx|            USA|    D|       D4|           Verified|       614272.0|      Individual|              null|                     null|2023-10-04 05:37:...|\n",
       "+--------------------+--------------------+----------+--------------+-------------+-------------+---------------+---------------+-----+---------+-------------------+---------------+----------------+------------------+-------------------------+--------------------+\n",
       "only showing top 20 rows"
      ]
     },
     "execution_count": 10,
     "metadata": {},
     "output_type": "execute_result"
    }
   ],
   "source": [
    "customers_df_ingestd"
   ]
  },
  {
   "cell_type": "markdown",
   "id": "135ffed5",
   "metadata": {},
   "source": [
    "#### 4. Remove complete duplicate rows"
   ]
  },
  {
   "cell_type": "code",
   "execution_count": 11,
   "id": "d4c8d709",
   "metadata": {},
   "outputs": [
    {
     "data": {
      "text/plain": [
       "2260701"
      ]
     },
     "execution_count": 11,
     "metadata": {},
     "output_type": "execute_result"
    }
   ],
   "source": [
    "customers_df_ingestd.count()"
   ]
  },
  {
   "cell_type": "code",
   "execution_count": 12,
   "id": "a10d7f4e",
   "metadata": {},
   "outputs": [],
   "source": [
    "customers_distinct = customers_df_ingestd.distinct()"
   ]
  },
  {
   "cell_type": "code",
   "execution_count": 13,
   "id": "f81a414a",
   "metadata": {},
   "outputs": [
    {
     "data": {
      "text/plain": [
       "2260638"
      ]
     },
     "execution_count": 13,
     "metadata": {},
     "output_type": "execute_result"
    }
   ],
   "source": [
    "customers_distinct.count()"
   ]
  },
  {
   "cell_type": "code",
   "execution_count": 14,
   "id": "0c6f1b52",
   "metadata": {},
   "outputs": [],
   "source": [
    "customers_distinct.createOrReplaceTempView(\"customers\")"
   ]
  },
  {
   "cell_type": "code",
   "execution_count": 15,
   "id": "61075f8e",
   "metadata": {},
   "outputs": [
    {
     "data": {
      "text/html": [
       "<table border='1'>\n",
       "<tr><th>member_id</th><th>emp_title</th><th>emp_length</th><th>home_ownership</th><th>annual_income</th><th>address_state</th><th>address_zipcode</th><th>address_country</th><th>grade</th><th>sub_grade</th><th>verification_status</th><th>tot_hi_cred_lim</th><th>application_type</th><th>join_annual_income</th><th>verification_status_joint</th><th>ingest_date</th></tr>\n",
       "<tr><td>b9bb6a9d166023d70...</td><td>ACCOUNTANT</td><td>10+ years</td><td>MORTGAGE</td><td>221000.0</td><td>TX</td><td>770xx</td><td>USA</td><td>D</td><td>D4</td><td>Verified</td><td>340215.0</td><td>Individual</td><td>null</td><td>null</td><td>2023-10-04 05:37:...</td></tr>\n",
       "<tr><td>2f6abb5a7514011a6...</td><td>Registered Nurse</td><td>2 years</td><td>MORTGAGE</td><td>81000.0</td><td>TX</td><td>763xx</td><td>USA</td><td>B</td><td>B4</td><td>Verified</td><td>318415.0</td><td>Individual</td><td>null</td><td>null</td><td>2023-10-04 05:37:...</td></tr>\n",
       "<tr><td>639fb9944b0256b29...</td><td>Teacher/Counselor</td><td>8 years</td><td>MORTGAGE</td><td>86000.0</td><td>KY</td><td>410xx</td><td>USA</td><td>D</td><td>D3</td><td>Source Verified</td><td>321739.0</td><td>Individual</td><td>null</td><td>null</td><td>2023-10-04 05:37:...</td></tr>\n",
       "<tr><td>86c0c2ba01550347e...</td><td>Science teacher</td><td>&lt; 1 year</td><td>RENT</td><td>47000.0</td><td>IL</td><td>606xx</td><td>USA</td><td>C</td><td>C3</td><td>Verified</td><td>69342.0</td><td>Individual</td><td>null</td><td>null</td><td>2023-10-04 05:37:...</td></tr>\n",
       "<tr><td>396e35c3ecb4ab284...</td><td>Service truck driver</td><td>10+ years</td><td>RENT</td><td>60000.0</td><td>CA</td><td>953xx</td><td>USA</td><td>C</td><td>C4</td><td>Not Verified</td><td>57892.0</td><td>Individual</td><td>null</td><td>null</td><td>2023-10-04 05:37:...</td></tr>\n",
       "<tr><td>d2b06d63808cbb7a1...</td><td>Sales</td><td>10+ years</td><td>OWN</td><td>45000.0</td><td>CO</td><td>800xx</td><td>USA</td><td>C</td><td>C2</td><td>Verified</td><td>288418.0</td><td>Individual</td><td>null</td><td>null</td><td>2023-10-04 05:37:...</td></tr>\n",
       "<tr><td>697c3b8db22e0207a...</td><td>Staff Accountant</td><td>2 years</td><td>MORTGAGE</td><td>69000.0</td><td>GA</td><td>305xx</td><td>USA</td><td>A</td><td>A5</td><td>Source Verified</td><td>241934.0</td><td>Individual</td><td>null</td><td>null</td><td>2023-10-04 05:37:...</td></tr>\n",
       "<tr><td>98245e415107a8ac8...</td><td>Solutions Principal</td><td>3 years</td><td>MORTGAGE</td><td>204000.0</td><td>GA</td><td>300xx</td><td>USA</td><td>A</td><td>A5</td><td>Source Verified</td><td>382772.0</td><td>Individual</td><td>null</td><td>null</td><td>2023-10-04 05:37:...</td></tr>\n",
       "<tr><td>3ccb0a480cb9f58de...</td><td>Managing Squisher</td><td>5 years</td><td>MORTGAGE</td><td>45000.0</td><td>MI</td><td>496xx</td><td>USA</td><td>B</td><td>B3</td><td>Source Verified</td><td>154653.0</td><td>Individual</td><td>null</td><td>null</td><td>2023-10-04 05:37:...</td></tr>\n",
       "<tr><td>cc4643e1e1b29f8c4...</td><td>Software Engineer</td><td>2 years</td><td>MORTGAGE</td><td>124000.0</td><td>PA</td><td>168xx</td><td>USA</td><td>C</td><td>C1</td><td>Verified</td><td>182271.0</td><td>Individual</td><td>null</td><td>null</td><td>2023-10-04 05:37:...</td></tr>\n",
       "<tr><td>f3cc359d8929ab890...</td><td>Sales</td><td>3 years</td><td>RENT</td><td>120000.0</td><td>NY</td><td>100xx</td><td>USA</td><td>A</td><td>A4</td><td>Source Verified</td><td>53196.0</td><td>Individual</td><td>null</td><td>null</td><td>2023-10-04 05:37:...</td></tr>\n",
       "<tr><td>17a1a6542ef6ed216...</td><td>Loan Integrity An...</td><td>4 years</td><td>MORTGAGE</td><td>65000.0</td><td>AZ</td><td>852xx</td><td>USA</td><td>C</td><td>C4</td><td>Source Verified</td><td>291780.0</td><td>Individual</td><td>null</td><td>null</td><td>2023-10-04 05:37:...</td></tr>\n",
       "<tr><td>30d599783ad392a5f...</td><td>asst.  manager</td><td>10+ years</td><td>MORTGAGE</td><td>85000.0</td><td>NY</td><td>113xx</td><td>USA</td><td>C</td><td>C3</td><td>Source Verified</td><td>33806.0</td><td>Individual</td><td>null</td><td>null</td><td>2023-10-04 05:37:...</td></tr>\n",
       "<tr><td>7a7673d1820c6e566...</td><td>Teacher</td><td>4 years</td><td>OWN</td><td>70000.0</td><td>NY</td><td>104xx</td><td>USA</td><td>F</td><td>F3</td><td>Not Verified</td><td>19100.0</td><td>Individual</td><td>null</td><td>null</td><td>2023-10-04 05:37:...</td></tr>\n",
       "<tr><td>943db81f655d47268...</td><td>Certified Medical...</td><td>10+ years</td><td>MORTGAGE</td><td>38000.0</td><td>OR</td><td>970xx</td><td>USA</td><td>C</td><td>C5</td><td>Not Verified</td><td>217050.0</td><td>Individual</td><td>null</td><td>null</td><td>2023-10-04 05:37:...</td></tr>\n",
       "<tr><td>f9e164faf47e848ad...</td><td>Senior Analyst</td><td>5 years</td><td>MORTGAGE</td><td>105000.0</td><td>AZ</td><td>850xx</td><td>USA</td><td>A</td><td>A2</td><td>Not Verified</td><td>387042.0</td><td>Individual</td><td>null</td><td>null</td><td>2023-10-04 05:37:...</td></tr>\n",
       "<tr><td>0a55f34b223c60f31...</td><td>shipping</td><td>10+ years</td><td>MORTGAGE</td><td>40000.0</td><td>TN</td><td>371xx</td><td>USA</td><td>D</td><td>D1</td><td>Source Verified</td><td>161529.0</td><td>Individual</td><td>null</td><td>null</td><td>2023-10-04 05:37:...</td></tr>\n",
       "<tr><td>d396245799fccae3e...</td><td>Sec 2</td><td>10+ years</td><td>RENT</td><td>59000.0</td><td>CT</td><td>063xx</td><td>USA</td><td>D</td><td>D2</td><td>Source Verified</td><td>19800.0</td><td>Individual</td><td>null</td><td>null</td><td>2023-10-04 05:37:...</td></tr>\n",
       "<tr><td>d297cd12e5e385f52...</td><td>Teacher</td><td>10+ years</td><td>MORTGAGE</td><td>70000.0</td><td>GA</td><td>302xx</td><td>USA</td><td>D</td><td>D1</td><td>Not Verified</td><td>247241.0</td><td>Individual</td><td>null</td><td>null</td><td>2023-10-04 05:37:...</td></tr>\n",
       "<tr><td>bf68b5774c1a6b108...</td><td>Area Manager</td><td>&lt; 1 year</td><td>MORTGAGE</td><td>90000.0</td><td>IN</td><td>460xx</td><td>USA</td><td>A</td><td>A4</td><td>Source Verified</td><td>211939.0</td><td>Individual</td><td>null</td><td>null</td><td>2023-10-04 05:37:...</td></tr>\n",
       "</table>\n",
       "only showing top 20 rows\n"
      ],
      "text/plain": [
       "+--------------------+--------------------+----------+--------------+-------------+-------------+---------------+---------------+-----+---------+-------------------+---------------+----------------+------------------+-------------------------+--------------------+\n",
       "|           member_id|           emp_title|emp_length|home_ownership|annual_income|address_state|address_zipcode|address_country|grade|sub_grade|verification_status|tot_hi_cred_lim|application_type|join_annual_income|verification_status_joint|         ingest_date|\n",
       "+--------------------+--------------------+----------+--------------+-------------+-------------+---------------+---------------+-----+---------+-------------------+---------------+----------------+------------------+-------------------------+--------------------+\n",
       "|d1fbf544f29fef973...|              forman|   4 years|      MORTGAGE|     100000.0|           MA|          027xx|            USA|    B|       B2|       Not Verified|       361564.0|      Individual|              null|                     null|2023-10-04 05:37:...|\n",
       "|d81ce757086d6422d...|        truck driver| 10+ years|      MORTGAGE|      99000.0|           TX|          773xx|            USA|    B|       B5|       Not Verified|       360901.0|      Individual|              null|                     null|2023-10-04 05:37:...|\n",
       "|aa990860ba4a36208...|               owner|   5 years|      MORTGAGE|     176000.0|           TX|          786xx|            USA|    A|       A1|       Not Verified|       170150.0|      Individual|              null|                     null|2023-10-04 05:37:...|\n",
       "|7aa2b4853158503c7...|Accountant II/Exe...|   9 years|           OWN|      55000.0|           AL|          358xx|            USA|    C|       C2|           Verified|        56918.0|      Individual|              null|                     null|2023-10-04 05:37:...|\n",
       "|1801be01d7546aa07...|    Case Manager, RN|  < 1 year|      MORTGAGE|      76482.0|           NM|          883xx|            USA|    A|       A5|    Source Verified|       325768.0|      Individual|              null|                     null|2023-10-04 05:37:...|\n",
       "|469be2665ed2c4ddf...|Recruiting Consul...|   8 years|          RENT|      54000.0|           NC|          276xx|            USA|    A|       A4|    Source Verified|        86488.0|      Individual|              null|                     null|2023-10-04 05:37:...|\n",
       "|ac25a8792b85e2f25...|              Server|   3 years|          RENT|      55000.0|           CA|          922xx|            USA|    B|       B3|    Source Verified|        61095.0|      Individual|              null|                     null|2023-10-04 05:37:...|\n",
       "|e73de66e0d4e3bda4...|      SR SQA Analyst|   2 years|      MORTGAGE|      82500.0|           FL|          335xx|            USA|    C|       C2|       Not Verified|       374809.0|      Individual|              null|                     null|2023-10-04 05:37:...|\n",
       "|26f1d8da5d316cf4d...|   Survey Technician|   2 years|      MORTGAGE|      65000.0|           IL|          600xx|            USA|    D|       D1|    Source Verified|        46731.0|      Individual|              null|                     null|2023-10-04 05:37:...|\n",
       "|62a9237e00247f971...|     STORE ROOM TECH|   6 years|          RENT|      30000.0|           TN|          383xx|            USA|    C|       C2|       Not Verified|        39750.0|      Individual|              null|                     null|2023-10-04 05:37:...|\n",
       "|6c09ca85440804004...|Parts Counter Sal...|   8 years|      MORTGAGE|      65000.0|           WY|          827xx|            USA|    B|       B1|    Source Verified|        37395.0|      Individual|              null|                     null|2023-10-04 05:37:...|\n",
       "|204ecf200b2165a4a...|Sales Operations ...|    1 year|          RENT|      77280.0|           WA|          980xx|            USA|    C|       C4|       Not Verified|       302550.0|      Individual|              null|                     null|2023-10-04 05:37:...|\n",
       "|bf96a6cee47afde07...|           President|   3 years|      MORTGAGE|      30000.0|           FL|          347xx|            USA|    D|       D5|       Not Verified|        65062.0|      Individual|              null|                     null|2023-10-04 05:37:...|\n",
       "|210688cc651571a28...|                null|      null|      MORTGAGE|      37200.0|           CA|          923xx|            USA|    C|       C4|           Verified|       118085.0|      Individual|              null|                     null|2023-10-04 05:37:...|\n",
       "|c40897b695d473b30...|Product Support A...|   5 years|      MORTGAGE|      74000.0|           VA|          231xx|            USA|    D|       D2|       Not Verified|       299400.0|      Individual|              null|                     null|2023-10-04 05:37:...|\n",
       "|a0f7f3c6e84f5654c...|             Teacher|   4 years|      MORTGAGE|      45000.0|           AR|          728xx|            USA|    B|       B1|    Source Verified|       135861.0|      Individual|              null|                     null|2023-10-04 05:37:...|\n",
       "|ae3833aa293e8f923...|    Registered Nurse|   2 years|          RENT|      68000.0|           VT|          054xx|            USA|    A|       A2|    Source Verified|       127533.0|      Individual|              null|                     null|2023-10-04 05:37:...|\n",
       "|4b36f94de40b55d66...|       Administrator| 10+ years|      MORTGAGE|      71000.0|           OH|          454xx|            USA|    B|       B5|    Source Verified|       268165.0|      Individual|              null|                     null|2023-10-04 05:37:...|\n",
       "|453f753d880822d85...|                null|      null|          RENT|      20004.0|           VA|          201xx|            USA|    A|       A4|           Verified|         8700.0|      Individual|              null|                     null|2023-10-04 05:37:...|\n",
       "|d0537fcbcd3bfea0a...|           President| 10+ years|      MORTGAGE|     130000.0|           FL|          334xx|            USA|    B|       B3|           Verified|       259151.0|      Individual|              null|                     null|2023-10-04 05:37:...|\n",
       "+--------------------+--------------------+----------+--------------+-------------+-------------+---------------+---------------+-----+---------+-------------------+---------------+----------------+------------------+-------------------------+--------------------+\n",
       "only showing top 20 rows"
      ]
     },
     "execution_count": 15,
     "metadata": {},
     "output_type": "execute_result"
    }
   ],
   "source": [
    "spark.sql(\"select * from customers\")"
   ]
  },
  {
   "cell_type": "markdown",
   "id": "c7f7edec",
   "metadata": {},
   "source": [
    "#### 5. Remove the rows where annual_income is null"
   ]
  },
  {
   "cell_type": "code",
   "execution_count": 16,
   "id": "fb465608",
   "metadata": {},
   "outputs": [
    {
     "data": {
      "text/html": [
       "<table border='1'>\n",
       "<tr><th>count(1)</th></tr>\n",
       "<tr><td>5</td></tr>\n",
       "</table>\n"
      ],
      "text/plain": [
       "+--------+\n",
       "|count(1)|\n",
       "+--------+\n",
       "|       5|\n",
       "+--------+"
      ]
     },
     "execution_count": 16,
     "metadata": {},
     "output_type": "execute_result"
    }
   ],
   "source": [
    "spark.sql(\"select count(*) from customers where annual_income is null\")"
   ]
  },
  {
   "cell_type": "code",
   "execution_count": 17,
   "id": "553d4f6d",
   "metadata": {},
   "outputs": [],
   "source": [
    "customers_income_filtered = spark.sql(\"select * from customers where annual_income is not null\")"
   ]
  },
  {
   "cell_type": "code",
   "execution_count": 18,
   "id": "1c45d548",
   "metadata": {},
   "outputs": [],
   "source": [
    "customers_income_filtered.createOrReplaceTempView(\"customers\")"
   ]
  },
  {
   "cell_type": "code",
   "execution_count": 19,
   "id": "47caf7a6",
   "metadata": {},
   "outputs": [
    {
     "data": {
      "text/html": [
       "<table border='1'>\n",
       "<tr><th>count(1)</th></tr>\n",
       "<tr><td>0</td></tr>\n",
       "</table>\n"
      ],
      "text/plain": [
       "+--------+\n",
       "|count(1)|\n",
       "+--------+\n",
       "|       0|\n",
       "+--------+"
      ]
     },
     "execution_count": 19,
     "metadata": {},
     "output_type": "execute_result"
    }
   ],
   "source": [
    "spark.sql(\"select count(*) from customers where annual_income is null\")"
   ]
  },
  {
   "cell_type": "markdown",
   "id": "a1f0a709",
   "metadata": {},
   "source": [
    "### 6. convert emp_length to integer"
   ]
  },
  {
   "cell_type": "code",
   "execution_count": 20,
   "id": "a8f879e9",
   "metadata": {},
   "outputs": [
    {
     "data": {
      "text/html": [
       "<table border='1'>\n",
       "<tr><th>emp_length</th></tr>\n",
       "<tr><td>9 years</td></tr>\n",
       "<tr><td>5 years</td></tr>\n",
       "<tr><td>null</td></tr>\n",
       "<tr><td>1 year</td></tr>\n",
       "<tr><td>2 years</td></tr>\n",
       "<tr><td>7 years</td></tr>\n",
       "<tr><td>8 years</td></tr>\n",
       "<tr><td>4 years</td></tr>\n",
       "<tr><td>6 years</td></tr>\n",
       "<tr><td>3 years</td></tr>\n",
       "<tr><td>10+ years</td></tr>\n",
       "<tr><td>&lt; 1 year</td></tr>\n",
       "</table>\n"
      ],
      "text/plain": [
       "+----------+\n",
       "|emp_length|\n",
       "+----------+\n",
       "|   5 years|\n",
       "|   9 years|\n",
       "|      null|\n",
       "|    1 year|\n",
       "|   2 years|\n",
       "|   7 years|\n",
       "|   8 years|\n",
       "|   4 years|\n",
       "|   6 years|\n",
       "|   3 years|\n",
       "| 10+ years|\n",
       "|  < 1 year|\n",
       "+----------+"
      ]
     },
     "execution_count": 20,
     "metadata": {},
     "output_type": "execute_result"
    }
   ],
   "source": [
    "spark.sql(\"select distinct(emp_length) from customers\")"
   ]
  },
  {
   "cell_type": "code",
   "execution_count": 21,
   "id": "794c70e3",
   "metadata": {},
   "outputs": [],
   "source": [
    "from pyspark.sql.functions import regexp_replace, col"
   ]
  },
  {
   "cell_type": "code",
   "execution_count": 22,
   "id": "1a86808e",
   "metadata": {},
   "outputs": [],
   "source": [
    "customers_emplength_cleaned = customers_income_filtered.withColumn(\"emp_length\", regexp_replace(col(\"emp_length\"), \"(\\D)\",\"\"))"
   ]
  },
  {
   "cell_type": "code",
   "execution_count": 23,
   "id": "b8373383",
   "metadata": {},
   "outputs": [
    {
     "data": {
      "text/html": [
       "<table border='1'>\n",
       "<tr><th>member_id</th><th>emp_title</th><th>emp_length</th><th>home_ownership</th><th>annual_income</th><th>address_state</th><th>address_zipcode</th><th>address_country</th><th>grade</th><th>sub_grade</th><th>verification_status</th><th>tot_hi_cred_lim</th><th>application_type</th><th>join_annual_income</th><th>verification_status_joint</th><th>ingest_date</th></tr>\n",
       "<tr><td>7138261c576d8d781...</td><td>Intelligence Spec...</td><td>5</td><td>MORTGAGE</td><td>132000.0</td><td>GA</td><td>309xx</td><td>USA</td><td>C</td><td>C3</td><td>Not Verified</td><td>280896.0</td><td>Individual</td><td>null</td><td>null</td><td>2023-10-04 05:38:...</td></tr>\n",
       "<tr><td>1089bb397d2a3b34a...</td><td>Production Coordi...</td><td>2</td><td>RENT</td><td>55000.0</td><td>CA</td><td>900xx</td><td>USA</td><td>C</td><td>C1</td><td>Verified</td><td>115457.0</td><td>Individual</td><td>null</td><td>null</td><td>2023-10-04 05:38:...</td></tr>\n",
       "<tr><td>cd4c19c9b39b37285...</td><td>Truck Driver</td><td>1</td><td>MORTGAGE</td><td>46600.0</td><td>TX</td><td>751xx</td><td>USA</td><td>C</td><td>C2</td><td>Verified</td><td>199950.0</td><td>Individual</td><td>null</td><td>null</td><td>2023-10-04 05:38:...</td></tr>\n",
       "<tr><td>88fa93d11f86cf27c...</td><td>Customer Engageme...</td><td>5</td><td>RENT</td><td>50000.0</td><td>CA</td><td>905xx</td><td>USA</td><td>C</td><td>C4</td><td>Verified</td><td>76510.0</td><td>Individual</td><td>null</td><td>null</td><td>2023-10-04 05:38:...</td></tr>\n",
       "<tr><td>ff6ec051c988dc700...</td><td>null</td><td>null</td><td>MORTGAGE</td><td>52000.0</td><td>MD</td><td>211xx</td><td>USA</td><td>B</td><td>B5</td><td>Verified</td><td>286938.0</td><td>Individual</td><td>null</td><td>null</td><td>2023-10-04 05:38:...</td></tr>\n",
       "<tr><td>da9f01cc0239b88cb...</td><td>Baker/Maintenance</td><td>3</td><td>RENT</td><td>32400.0</td><td>NY</td><td>139xx</td><td>USA</td><td>C</td><td>C2</td><td>Source Verified</td><td>6100.0</td><td>Individual</td><td>null</td><td>null</td><td>2023-10-04 05:38:...</td></tr>\n",
       "<tr><td>91b5b6c7dbec66919...</td><td>RN</td><td>7</td><td>MORTGAGE</td><td>94624.0</td><td>GA</td><td>300xx</td><td>USA</td><td>B</td><td>B5</td><td>Source Verified</td><td>361104.0</td><td>Individual</td><td>null</td><td>null</td><td>2023-10-04 05:38:...</td></tr>\n",
       "<tr><td>4b3a6ec7b33357738...</td><td>Managing Director...</td><td>4</td><td>RENT</td><td>60000.0</td><td>FL</td><td>334xx</td><td>USA</td><td>A</td><td>A4</td><td>Source Verified</td><td>31341.0</td><td>Individual</td><td>null</td><td>null</td><td>2023-10-04 05:38:...</td></tr>\n",
       "<tr><td>5dfc356747ea4e4ac...</td><td>Annual Fund Coord...</td><td>1</td><td>MORTGAGE</td><td>51200.0</td><td>NH</td><td>037xx</td><td>USA</td><td>F</td><td>F5</td><td>Not Verified</td><td>220461.0</td><td>Joint App</td><td>83200.0</td><td>Not Verified</td><td>2023-10-04 05:38:...</td></tr>\n",
       "<tr><td>31903319d781198f7...</td><td>Ramper</td><td>10</td><td>MORTGAGE</td><td>100000.0</td><td>GA</td><td>300xx</td><td>USA</td><td>D</td><td>D1</td><td>Source Verified</td><td>26800.0</td><td>Individual</td><td>null</td><td>null</td><td>2023-10-04 05:38:...</td></tr>\n",
       "<tr><td>7132558a3d0961b9e...</td><td>null</td><td>null</td><td>MORTGAGE</td><td>85000.0</td><td>FL</td><td>334xx</td><td>USA</td><td>A</td><td>A2</td><td>Not Verified</td><td>580639.0</td><td>Individual</td><td>null</td><td>null</td><td>2023-10-04 05:38:...</td></tr>\n",
       "<tr><td>64bb0cf3eaff2333d...</td><td>Delivery Driver</td><td>2</td><td>OWN</td><td>41800.0</td><td>VA</td><td>236xx</td><td>USA</td><td>C</td><td>C4</td><td>Not Verified</td><td>73575.0</td><td>Individual</td><td>null</td><td>null</td><td>2023-10-04 05:38:...</td></tr>\n",
       "<tr><td>d032f3f30ff1427d2...</td><td>Human Resources</td><td>6</td><td>MORTGAGE</td><td>75000.0</td><td>KS</td><td>662xx</td><td>USA</td><td>C</td><td>C2</td><td>Source Verified</td><td>330558.0</td><td>Individual</td><td>null</td><td>null</td><td>2023-10-04 05:38:...</td></tr>\n",
       "<tr><td>d0b19f68215867400...</td><td>Inside Sales</td><td>2</td><td>MORTGAGE</td><td>35000.0</td><td>KY</td><td>410xx</td><td>USA</td><td>B</td><td>B1</td><td>Not Verified</td><td>157158.0</td><td>Individual</td><td>null</td><td>null</td><td>2023-10-04 05:38:...</td></tr>\n",
       "<tr><td>2a7f1fdd162850465...</td><td>Area Administrati...</td><td>5</td><td>OWN</td><td>39600.0</td><td>MN</td><td>559xx</td><td>USA</td><td>B</td><td>B4</td><td>Source Verified</td><td>96823.0</td><td>Individual</td><td>null</td><td>null</td><td>2023-10-04 05:38:...</td></tr>\n",
       "<tr><td>8dae659fae58d2608...</td><td>retired teacher n...</td><td>10</td><td>MORTGAGE</td><td>56000.0</td><td>MD</td><td>211xx</td><td>USA</td><td>A</td><td>A5</td><td>Verified</td><td>93237.0</td><td>Individual</td><td>null</td><td>null</td><td>2023-10-04 05:38:...</td></tr>\n",
       "<tr><td>488d34a319579f55a...</td><td>Book processor</td><td>1</td><td>OWN</td><td>18720.0</td><td>GA</td><td>305xx</td><td>USA</td><td>C</td><td>C5</td><td>Verified</td><td>22773.0</td><td>Individual</td><td>null</td><td>null</td><td>2023-10-04 05:38:...</td></tr>\n",
       "<tr><td>a1a81e06865bb7889...</td><td>service managaer</td><td>10</td><td>MORTGAGE</td><td>91000.0</td><td>CA</td><td>933xx</td><td>USA</td><td>C</td><td>C1</td><td>Verified</td><td>62618.0</td><td>Individual</td><td>null</td><td>null</td><td>2023-10-04 05:38:...</td></tr>\n",
       "<tr><td>f01741b3c4fd029d1...</td><td>Treatment Coordin...</td><td>10</td><td>OWN</td><td>34000.0</td><td>ME</td><td>047xx</td><td>USA</td><td>A</td><td>A1</td><td>Not Verified</td><td>139572.0</td><td>Individual</td><td>null</td><td>null</td><td>2023-10-04 05:38:...</td></tr>\n",
       "<tr><td>5de1c0a784712752b...</td><td>Installer</td><td>10</td><td>RENT</td><td>54000.0</td><td>FL</td><td>322xx</td><td>USA</td><td>B</td><td>B4</td><td>Source Verified</td><td>29117.0</td><td>Individual</td><td>null</td><td>null</td><td>2023-10-04 05:38:...</td></tr>\n",
       "</table>\n",
       "only showing top 20 rows\n"
      ],
      "text/plain": [
       "+--------------------+--------------------+----------+--------------+-------------+-------------+---------------+---------------+-----+---------+-------------------+---------------+----------------+------------------+-------------------------+--------------------+\n",
       "|           member_id|           emp_title|emp_length|home_ownership|annual_income|address_state|address_zipcode|address_country|grade|sub_grade|verification_status|tot_hi_cred_lim|application_type|join_annual_income|verification_status_joint|         ingest_date|\n",
       "+--------------------+--------------------+----------+--------------+-------------+-------------+---------------+---------------+-----+---------+-------------------+---------------+----------------+------------------+-------------------------+--------------------+\n",
       "|5ccc80aa6022720a6...|              Driver|         2|          RENT|      80000.0|           NJ|          070xx|            USA|    A|       A5|       Not Verified|       101725.0|      Individual|              null|                     null|2023-10-04 05:37:...|\n",
       "|814b7e0337e929ff7...|     Sales Associate|         6|          RENT|      20000.0|           TX|          784xx|            USA|    A|       A4|       Not Verified|        10900.0|      Individual|              null|                     null|2023-10-04 05:37:...|\n",
       "|a962312d2f0d729b3...|Medical Laborator...|         3|      MORTGAGE|      55000.0|           LA|          710xx|            USA|    A|       A1|    Source Verified|       275543.0|      Individual|              null|                     null|2023-10-04 05:37:...|\n",
       "|ce5c12de797eb22c4...|            Verifyer|        10|      MORTGAGE|      45000.0|           GA|          313xx|            USA|    A|       A5|       Not Verified|       140346.0|      Individual|              null|                     null|2023-10-04 05:37:...|\n",
       "|0b9446e28d2569347...|             Teacher|         9|          RENT|      55000.0|           TX|          774xx|            USA|    C|       C5|    Source Verified|       128828.0|      Individual|              null|                     null|2023-10-04 05:37:...|\n",
       "|c7af8ffcfcaa82fa9...|Supply Chain Analyst|         7|           OWN|      55000.0|           CT|          066xx|            USA|    D|       D4|    Source Verified|        26000.0|      Individual|              null|                     null|2023-10-04 05:37:...|\n",
       "|815a3ce6eac7590d4...|Technical Sales R...|         2|      MORTGAGE|     175000.0|           NJ|          080xx|            USA|    A|       A4|    Source Verified|       173809.0|      Individual|              null|                     null|2023-10-04 05:37:...|\n",
       "|fd20dccf059dca9bb...|    Program Analyist|        10|      MORTGAGE|     138000.0|           PA|          152xx|            USA|    A|       A4|       Not Verified|       192662.0|       Joint App|          175000.0|             Not Verified|2023-10-04 05:37:...|\n",
       "|6050a653b615fdf95...|       Superintedent|         3|      MORTGAGE|     145000.0|           OH|          436xx|            USA|    B|       B4|       Not Verified|        61700.0|      Individual|              null|                     null|2023-10-04 05:37:...|\n",
       "|42f9d64c8b73e6afe...|           Pool tech|        10|          RENT|      58000.0|           AZ|          850xx|            USA|    A|       A4|    Source Verified|        73024.0|       Joint App|          118000.0|          Source Verified|2023-10-04 05:37:...|\n",
       "|4d545cf6dcce8eba1...|    Registered Nurse|         2|      MORTGAGE|      60000.0|           CA|          923xx|            USA|    A|       A1|           Verified|       590635.0|       Joint App|          210000.0|                     null|2023-10-04 05:37:...|\n",
       "|553a0e887e31fd188...|QA Compliance Coo...|         2|          RENT|      61176.0|           NJ|          076xx|            USA|    A|       A4|    Source Verified|        67641.0|      Individual|              null|                     null|2023-10-04 05:37:...|\n",
       "|13a903977b58d3937...|  Operations Manager|        10|      MORTGAGE|      41000.0|           TX|          786xx|            USA|    C|       C2|    Source Verified|       275920.0|       Joint App|          116500.0|          Source Verified|2023-10-04 05:37:...|\n",
       "|ee18c7fe28d5e23a1...|              Driver|         7|      MORTGAGE|      75000.0|           SC|          295xx|            USA|    C|       C2|       Not Verified|        99089.0|      Individual|              null|                     null|2023-10-04 05:37:...|\n",
       "|d491c2ebdb7f5df4a...|           Geologist|         4|          RENT|      84000.0|           AK|          995xx|            USA|    B|       B1|       Not Verified|       122719.0|      Individual|              null|                     null|2023-10-04 05:37:...|\n",
       "|c45c7c7bd684193a8...|             Teacher|         2|          RENT|      34000.0|           TX|          790xx|            USA|    B|       B1|       Not Verified|        71775.0|      Individual|              null|                     null|2023-10-04 05:37:...|\n",
       "|aabd9fc995f56616f...|      Office manager|        10|      MORTGAGE|     240000.0|           FL|          346xx|            USA|    B|       B1|       Not Verified|        19600.0|      Individual|              null|                     null|2023-10-04 05:37:...|\n",
       "|7df34d46bf1e933f0...|         Lumber Yard|         1|          RENT|      24000.0|           MO|          640xx|            USA|    C|       C3|    Source Verified|        28941.0|      Individual|              null|                     null|2023-10-04 05:37:...|\n",
       "|b199d1f9b54795498...|     Repo Specialist|         3|          RENT|      53000.0|           AZ|          853xx|            USA|    C|       C5|    Source Verified|        78204.0|      Individual|              null|                     null|2023-10-04 05:37:...|\n",
       "|64678dc851ab32940...|         team member|         3|          RENT|      30000.0|           NJ|          088xx|            USA|    C|       C5|    Source Verified|        21000.0|      Individual|              null|                     null|2023-10-04 05:37:...|\n",
       "+--------------------+--------------------+----------+--------------+-------------+-------------+---------------+---------------+-----+---------+-------------------+---------------+----------------+------------------+-------------------------+--------------------+\n",
       "only showing top 20 rows"
      ]
     },
     "execution_count": 23,
     "metadata": {},
     "output_type": "execute_result"
    }
   ],
   "source": [
    "customers_emplength_cleaned"
   ]
  },
  {
   "cell_type": "code",
   "execution_count": 24,
   "id": "9ceaaf31",
   "metadata": {},
   "outputs": [
    {
     "name": "stdout",
     "output_type": "stream",
     "text": [
      "root\n",
      " |-- member_id: string (nullable = true)\n",
      " |-- emp_title: string (nullable = true)\n",
      " |-- emp_length: string (nullable = true)\n",
      " |-- home_ownership: string (nullable = true)\n",
      " |-- annual_income: float (nullable = true)\n",
      " |-- address_state: string (nullable = true)\n",
      " |-- address_zipcode: string (nullable = true)\n",
      " |-- address_country: string (nullable = true)\n",
      " |-- grade: string (nullable = true)\n",
      " |-- sub_grade: string (nullable = true)\n",
      " |-- verification_status: string (nullable = true)\n",
      " |-- tot_hi_cred_lim: float (nullable = true)\n",
      " |-- application_type: string (nullable = true)\n",
      " |-- join_annual_income: float (nullable = true)\n",
      " |-- verification_status_joint: string (nullable = true)\n",
      " |-- ingest_date: timestamp (nullable = false)\n",
      "\n"
     ]
    }
   ],
   "source": [
    "customers_emplength_cleaned.printSchema()"
   ]
  },
  {
   "cell_type": "code",
   "execution_count": 25,
   "id": "52596627",
   "metadata": {},
   "outputs": [],
   "source": [
    "customers_emplength_casted = customers_emplength_cleaned.withColumn(\"emp_length\", customers_emplength_cleaned.emp_length.cast('int'))"
   ]
  },
  {
   "cell_type": "code",
   "execution_count": 26,
   "id": "bf0224e0",
   "metadata": {},
   "outputs": [
    {
     "data": {
      "text/html": [
       "<table border='1'>\n",
       "<tr><th>member_id</th><th>emp_title</th><th>emp_length</th><th>home_ownership</th><th>annual_income</th><th>address_state</th><th>address_zipcode</th><th>address_country</th><th>grade</th><th>sub_grade</th><th>verification_status</th><th>tot_hi_cred_lim</th><th>application_type</th><th>join_annual_income</th><th>verification_status_joint</th><th>ingest_date</th></tr>\n",
       "<tr><td>c7dacd496816500fa...</td><td>Truck driver</td><td>4</td><td>OWN</td><td>58000.0</td><td>TX</td><td>751xx</td><td>USA</td><td>A</td><td>A4</td><td>Not Verified</td><td>38695.0</td><td>Individual</td><td>null</td><td>null</td><td>2023-10-04 05:38:...</td></tr>\n",
       "<tr><td>2ad83feafde39dc4c...</td><td>Sales Supervisor</td><td>2</td><td>RENT</td><td>58000.0</td><td>CO</td><td>800xx</td><td>USA</td><td>B</td><td>B1</td><td>Source Verified</td><td>50390.0</td><td>Individual</td><td>null</td><td>null</td><td>2023-10-04 05:38:...</td></tr>\n",
       "<tr><td>c864e7909219b482c...</td><td>Commission Sales</td><td>10</td><td>RENT</td><td>25000.0</td><td>WI</td><td>546xx</td><td>USA</td><td>A</td><td>A4</td><td>Source Verified</td><td>45372.0</td><td>Individual</td><td>null</td><td>null</td><td>2023-10-04 05:38:...</td></tr>\n",
       "<tr><td>5e16287e06f0ddc3a...</td><td>Sales Representative</td><td>2</td><td>OWN</td><td>80000.0</td><td>FL</td><td>331xx</td><td>USA</td><td>A</td><td>A3</td><td>Source Verified</td><td>51806.0</td><td>Individual</td><td>null</td><td>null</td><td>2023-10-04 05:38:...</td></tr>\n",
       "<tr><td>31dc64a9f38709240...</td><td>Admin. Assistant</td><td>10</td><td>RENT</td><td>50000.0</td><td>NY</td><td>100xx</td><td>USA</td><td>C</td><td>C2</td><td>Not Verified</td><td>53523.0</td><td>Individual</td><td>null</td><td>null</td><td>2023-10-04 05:38:...</td></tr>\n",
       "<tr><td>f85b6a6082b447681...</td><td>Engineer</td><td>4</td><td>RENT</td><td>78000.0</td><td>VA</td><td>244xx</td><td>USA</td><td>C</td><td>C3</td><td>Not Verified</td><td>34457.0</td><td>Individual</td><td>null</td><td>null</td><td>2023-10-04 05:38:...</td></tr>\n",
       "<tr><td>8c7b00e2211cf7ac4...</td><td>Technician</td><td>2</td><td>RENT</td><td>72000.0</td><td>IN</td><td>460xx</td><td>USA</td><td>C</td><td>C2</td><td>Verified</td><td>40231.0</td><td>Individual</td><td>null</td><td>null</td><td>2023-10-04 05:38:...</td></tr>\n",
       "<tr><td>320471b0deb720d9f...</td><td>Financial Analyst</td><td>8</td><td>MORTGAGE</td><td>250000.0</td><td>VA</td><td>221xx</td><td>USA</td><td>A</td><td>A1</td><td>Source Verified</td><td>508035.0</td><td>Individual</td><td>null</td><td>null</td><td>2023-10-04 05:38:...</td></tr>\n",
       "<tr><td>8fc5c7a7321081dd6...</td><td>Lead Mechanic</td><td>10</td><td>RENT</td><td>120000.0</td><td>VA</td><td>201xx</td><td>USA</td><td>B</td><td>B1</td><td>Not Verified</td><td>81700.0</td><td>Individual</td><td>null</td><td>null</td><td>2023-10-04 05:38:...</td></tr>\n",
       "<tr><td>4bc27de17c6494e02...</td><td>Registered Nurse</td><td>1</td><td>MORTGAGE</td><td>75000.0</td><td>NV</td><td>891xx</td><td>USA</td><td>B</td><td>B1</td><td>Source Verified</td><td>68999.0</td><td>Individual</td><td>null</td><td>null</td><td>2023-10-04 05:38:...</td></tr>\n",
       "<tr><td>1605b419f341fcba8...</td><td>Registered Nurse</td><td>10</td><td>RENT</td><td>100000.0</td><td>TX</td><td>774xx</td><td>USA</td><td>A</td><td>A5</td><td>Not Verified</td><td>136778.0</td><td>Individual</td><td>null</td><td>null</td><td>2023-10-04 05:38:...</td></tr>\n",
       "<tr><td>8a82a77e19de7bb2e...</td><td>Director</td><td>3</td><td>OWN</td><td>200000.0</td><td>TX</td><td>750xx</td><td>USA</td><td>B</td><td>B5</td><td>Source Verified</td><td>432823.0</td><td>Individual</td><td>null</td><td>null</td><td>2023-10-04 05:38:...</td></tr>\n",
       "<tr><td>ce828ce78b1dd611a...</td><td>Driver</td><td>4</td><td>MORTGAGE</td><td>55000.0</td><td>NY</td><td>109xx</td><td>USA</td><td>E</td><td>E4</td><td>Source Verified</td><td>287972.0</td><td>Joint App</td><td>150000.0</td><td>Source Verified</td><td>2023-10-04 05:38:...</td></tr>\n",
       "<tr><td>39d4f382cf00bada4...</td><td>Truck driver</td><td>1</td><td>MORTGAGE</td><td>55155.0</td><td>KS</td><td>678xx</td><td>USA</td><td>C</td><td>C1</td><td>Verified</td><td>52100.0</td><td>Individual</td><td>null</td><td>null</td><td>2023-10-04 05:38:...</td></tr>\n",
       "<tr><td>f1f7fa7d05a03bcfc...</td><td>RN</td><td>3</td><td>MORTGAGE</td><td>110000.0</td><td>MS</td><td>386xx</td><td>USA</td><td>D</td><td>D3</td><td>Source Verified</td><td>349431.0</td><td>Individual</td><td>null</td><td>null</td><td>2023-10-04 05:38:...</td></tr>\n",
       "<tr><td>e890a9e2a7864afcc...</td><td>Senior service co...</td><td>1</td><td>OWN</td><td>43200.0</td><td>IN</td><td>463xx</td><td>USA</td><td>B</td><td>B2</td><td>Not Verified</td><td>75729.0</td><td>Individual</td><td>null</td><td>null</td><td>2023-10-04 05:38:...</td></tr>\n",
       "<tr><td>8aba415830c3e2215...</td><td>Dealer</td><td>10</td><td>MORTGAGE</td><td>70000.0</td><td>NV</td><td>891xx</td><td>USA</td><td>B</td><td>B5</td><td>Not Verified</td><td>33639.0</td><td>Individual</td><td>null</td><td>null</td><td>2023-10-04 05:38:...</td></tr>\n",
       "<tr><td>15cb8c22d9e6f7c40...</td><td>Mission Support S...</td><td>10</td><td>MORTGAGE</td><td>72000.0</td><td>NM</td><td>880xx</td><td>USA</td><td>D</td><td>D3</td><td>Verified</td><td>210593.0</td><td>Individual</td><td>null</td><td>null</td><td>2023-10-04 05:38:...</td></tr>\n",
       "<tr><td>518906029f34df164...</td><td>Social Worker</td><td>10</td><td>MORTGAGE</td><td>65000.0</td><td>NJ</td><td>071xx</td><td>USA</td><td>A</td><td>A1</td><td>Verified</td><td>207106.0</td><td>Individual</td><td>null</td><td>null</td><td>2023-10-04 05:38:...</td></tr>\n",
       "<tr><td>205da069f002cc50c...</td><td>Managing Barber</td><td>8</td><td>MORTGAGE</td><td>37000.0</td><td>OH</td><td>452xx</td><td>USA</td><td>D</td><td>D3</td><td>Not Verified</td><td>106687.0</td><td>Individual</td><td>null</td><td>null</td><td>2023-10-04 05:38:...</td></tr>\n",
       "</table>\n",
       "only showing top 20 rows\n"
      ],
      "text/plain": [
       "+--------------------+--------------------+----------+--------------+-------------+-------------+---------------+---------------+-----+---------+-------------------+---------------+----------------+------------------+-------------------------+--------------------+\n",
       "|           member_id|           emp_title|emp_length|home_ownership|annual_income|address_state|address_zipcode|address_country|grade|sub_grade|verification_status|tot_hi_cred_lim|application_type|join_annual_income|verification_status_joint|         ingest_date|\n",
       "+--------------------+--------------------+----------+--------------+-------------+-------------+---------------+---------------+-----+---------+-------------------+---------------+----------------+------------------+-------------------------+--------------------+\n",
       "|c74f9f5ce411fea59...|           sch clerk|         5|          RENT|      30000.0|           TX|          752xx|            USA|    C|       C5|       Not Verified|        13400.0|      Individual|              null|                     null|2023-10-04 05:38:...|\n",
       "|5e9a0f8984cfbe823...|            Director|         6|           OWN|      61000.0|           KS|          660xx|            USA|    A|       A3|    Source Verified|       545303.0|      Individual|              null|                     null|2023-10-04 05:38:...|\n",
       "|09daa2c6cdebc5e38...|Certified Occupat...|         5|      MORTGAGE|      60000.0|           OH|          450xx|            USA|    D|       D2|    Source Verified|        52193.0|      Individual|              null|                     null|2023-10-04 05:38:...|\n",
       "|646124ce14ff72463...|Customer Service Rep|        10|          RENT|      35000.0|           CA|          916xx|            USA|    B|       B2|           Verified|        86659.0|      Individual|              null|                     null|2023-10-04 05:38:...|\n",
       "|fbf447e1d45d561dc...|          Accountant|        10|          RENT|      80000.0|           CT|          060xx|            USA|    A|       A4|           Verified|        32752.0|      Individual|              null|                     null|2023-10-04 05:38:...|\n",
       "|fccb57d969bed2d6a...|     Correspondent I|        10|      MORTGAGE|      30000.0|           PA|          159xx|            USA|    D|       D2|       Not Verified|       122700.0|      Individual|              null|                     null|2023-10-04 05:38:...|\n",
       "|c14556fca445af26e...|  Executive Director|         8|           OWN|      80000.0|           KY|          404xx|            USA|    C|       C2|    Source Verified|       582338.0|      Individual|              null|                     null|2023-10-04 05:38:...|\n",
       "|f46550b77b2a14066...|    Registered Nurse|         1|          RENT|      42600.0|           MO|          633xx|            USA|    D|       D1|       Not Verified|        99389.0|      Individual|              null|                     null|2023-10-04 05:38:...|\n",
       "|3aa7d25a5b54a9530...|Sr Decision Suppo...|         3|      MORTGAGE|      82000.0|           PA|          150xx|            USA|    C|       C1|    Source Verified|       288868.0|      Individual|              null|                     null|2023-10-04 05:38:...|\n",
       "|b09c8dc8ffd4e3d30...|            Mechanic|        10|      MORTGAGE|     125000.0|           WA|          983xx|            USA|    D|       D3|           Verified|       447772.0|      Individual|              null|                     null|2023-10-04 05:38:...|\n",
       "|6408e0c2e31b53a40...|           Custodian|        10|      MORTGAGE|      36000.0|           SD|          574xx|            USA|    A|       A1|    Source Verified|        76339.0|      Individual|              null|                     null|2023-10-04 05:38:...|\n",
       "|c50bc0552d323f1f6...|Assessment & Bili...|        10|          RENT|      40000.0|           WA|          989xx|            USA|    A|       A5|    Source Verified|        54072.0|      Individual|              null|                     null|2023-10-04 05:38:...|\n",
       "|e85de6aecd4f33bfc...|            Co-Owner|        10|           OWN|     100000.0|           LA|          704xx|            USA|    B|       B5|    Source Verified|       258116.0|      Individual|              null|                     null|2023-10-04 05:38:...|\n",
       "|23a66a9513db28ea5...|    Business Analyst|         7|          RENT|      58500.0|           CT|          064xx|            USA|    F|       F3|    Source Verified|        51400.0|      Individual|              null|                     null|2023-10-04 05:38:...|\n",
       "|d05733deb5846e150...|Customer Service ...|         1|           OWN|      52000.0|           FL|          346xx|            USA|    E|       E1|    Source Verified|        36962.0|      Individual|              null|                     null|2023-10-04 05:38:...|\n",
       "|5ea7f68b14625b229...|    Stock Supervisor|         5|          RENT|      35000.0|           NJ|          085xx|            USA|    B|       B4|       Not Verified|        37653.0|      Individual|              null|                     null|2023-10-04 05:38:...|\n",
       "|671edf93618d0b709...|                  DM|         6|      MORTGAGE|      98000.0|           NC|          282xx|            USA|    D|       D1|    Source Verified|       311914.0|      Individual|              null|                     null|2023-10-04 05:38:...|\n",
       "|f9efa41b75dd9510b...|Contract Administ...|         1|          RENT|      55000.0|           CA|          927xx|            USA|    A|       A3|       Not Verified|        92185.0|      Individual|              null|                     null|2023-10-04 05:38:...|\n",
       "|ffc175e1edd1b458e...|                 RCA|         1|           OWN|      41000.0|           TX|          770xx|            USA|    B|       B1|       Not Verified|       215416.0|      Individual|              null|                     null|2023-10-04 05:38:...|\n",
       "|00f2d5da49cf07709...|     Campus Director|         9|      MORTGAGE|      41820.0|           FL|          320xx|            USA|    E|       E3|       Not Verified|       193635.0|      Individual|              null|                     null|2023-10-04 05:38:...|\n",
       "+--------------------+--------------------+----------+--------------+-------------+-------------+---------------+---------------+-----+---------+-------------------+---------------+----------------+------------------+-------------------------+--------------------+\n",
       "only showing top 20 rows"
      ]
     },
     "execution_count": 26,
     "metadata": {},
     "output_type": "execute_result"
    }
   ],
   "source": [
    "customers_emplength_casted"
   ]
  },
  {
   "cell_type": "code",
   "execution_count": 27,
   "id": "1acc8525",
   "metadata": {},
   "outputs": [
    {
     "name": "stdout",
     "output_type": "stream",
     "text": [
      "root\n",
      " |-- member_id: string (nullable = true)\n",
      " |-- emp_title: string (nullable = true)\n",
      " |-- emp_length: integer (nullable = true)\n",
      " |-- home_ownership: string (nullable = true)\n",
      " |-- annual_income: float (nullable = true)\n",
      " |-- address_state: string (nullable = true)\n",
      " |-- address_zipcode: string (nullable = true)\n",
      " |-- address_country: string (nullable = true)\n",
      " |-- grade: string (nullable = true)\n",
      " |-- sub_grade: string (nullable = true)\n",
      " |-- verification_status: string (nullable = true)\n",
      " |-- tot_hi_cred_lim: float (nullable = true)\n",
      " |-- application_type: string (nullable = true)\n",
      " |-- join_annual_income: float (nullable = true)\n",
      " |-- verification_status_joint: string (nullable = true)\n",
      " |-- ingest_date: timestamp (nullable = false)\n",
      "\n"
     ]
    }
   ],
   "source": [
    "customers_emplength_casted.printSchema()"
   ]
  },
  {
   "cell_type": "markdown",
   "id": "f3a42500",
   "metadata": {},
   "source": [
    "#### 7. we need to replace all the nulls in emp_length column with average of this column"
   ]
  },
  {
   "cell_type": "code",
   "execution_count": 28,
   "id": "1b95815b",
   "metadata": {},
   "outputs": [
    {
     "data": {
      "text/plain": [
       "146903"
      ]
     },
     "execution_count": 28,
     "metadata": {},
     "output_type": "execute_result"
    }
   ],
   "source": [
    "customers_emplength_casted.filter(\"emp_length is null\").count()"
   ]
  },
  {
   "cell_type": "code",
   "execution_count": 29,
   "id": "819b465e",
   "metadata": {},
   "outputs": [],
   "source": [
    "customers_emplength_casted.createOrReplaceTempView(\"customers\")"
   ]
  },
  {
   "cell_type": "code",
   "execution_count": 30,
   "id": "da7f9eb7",
   "metadata": {},
   "outputs": [],
   "source": [
    "avg_emp_length = spark.sql(\"select floor(avg(emp_length)) as avg_emp_length from customers\").collect()"
   ]
  },
  {
   "cell_type": "code",
   "execution_count": 31,
   "id": "5ba2d256",
   "metadata": {},
   "outputs": [
    {
     "name": "stdout",
     "output_type": "stream",
     "text": [
      "[Row(avg_emp_length=6)]\n"
     ]
    }
   ],
   "source": [
    "print(avg_emp_length)"
   ]
  },
  {
   "cell_type": "code",
   "execution_count": 32,
   "id": "976b2874",
   "metadata": {},
   "outputs": [],
   "source": [
    "avg_emp_duration = avg_emp_length[0][0]"
   ]
  },
  {
   "cell_type": "code",
   "execution_count": 33,
   "id": "1b5a3d49",
   "metadata": {},
   "outputs": [
    {
     "name": "stdout",
     "output_type": "stream",
     "text": [
      "6\n"
     ]
    }
   ],
   "source": [
    "print(avg_emp_duration)"
   ]
  },
  {
   "cell_type": "code",
   "execution_count": 34,
   "id": "addabcd8",
   "metadata": {},
   "outputs": [],
   "source": [
    "customers_emplength_replaced = customers_emplength_casted.na.fill(avg_emp_duration, subset=['emp_length'])"
   ]
  },
  {
   "cell_type": "code",
   "execution_count": 35,
   "id": "cd625091",
   "metadata": {},
   "outputs": [
    {
     "data": {
      "text/html": [
       "<table border='1'>\n",
       "<tr><th>member_id</th><th>emp_title</th><th>emp_length</th><th>home_ownership</th><th>annual_income</th><th>address_state</th><th>address_zipcode</th><th>address_country</th><th>grade</th><th>sub_grade</th><th>verification_status</th><th>tot_hi_cred_lim</th><th>application_type</th><th>join_annual_income</th><th>verification_status_joint</th><th>ingest_date</th></tr>\n",
       "<tr><td>e5324e6ec6668c91a...</td><td>forman</td><td>10</td><td>RENT</td><td>100000.0</td><td>NJ</td><td>074xx</td><td>USA</td><td>C</td><td>C2</td><td>Verified</td><td>50640.0</td><td>Individual</td><td>null</td><td>null</td><td>2023-10-04 05:38:...</td></tr>\n",
       "<tr><td>a9a8fcbcde5d446bb...</td><td>Lead clerk</td><td>10</td><td>MORTGAGE</td><td>55000.0</td><td>CA</td><td>958xx</td><td>USA</td><td>D</td><td>D3</td><td>Not Verified</td><td>266596.0</td><td>Individual</td><td>null</td><td>null</td><td>2023-10-04 05:38:...</td></tr>\n",
       "<tr><td>b711748d9cacaeb06...</td><td>SECONDARY MARKETI...</td><td>1</td><td>RENT</td><td>35360.0</td><td>CA</td><td>928xx</td><td>USA</td><td>B</td><td>B5</td><td>Source Verified</td><td>16000.0</td><td>Individual</td><td>null</td><td>null</td><td>2023-10-04 05:38:...</td></tr>\n",
       "<tr><td>00b2d0e6089cb33ed...</td><td>Police Sergeant</td><td>9</td><td>RENT</td><td>62000.0</td><td>VA</td><td>236xx</td><td>USA</td><td>C</td><td>C4</td><td>Not Verified</td><td>174524.0</td><td>Individual</td><td>null</td><td>null</td><td>2023-10-04 05:38:...</td></tr>\n",
       "<tr><td>7f0f9bb5da43380c6...</td><td>laborer</td><td>1</td><td>RENT</td><td>38400.0</td><td>IN</td><td>461xx</td><td>USA</td><td>D</td><td>D3</td><td>Source Verified</td><td>7300.0</td><td>Individual</td><td>null</td><td>null</td><td>2023-10-04 05:38:...</td></tr>\n",
       "<tr><td>13663735f3a3e3c03...</td><td>Health Unit Coord...</td><td>10</td><td>RENT</td><td>50000.0</td><td>OH</td><td>441xx</td><td>USA</td><td>B</td><td>B1</td><td>Not Verified</td><td>67458.0</td><td>Individual</td><td>null</td><td>null</td><td>2023-10-04 05:38:...</td></tr>\n",
       "<tr><td>f7d087e0bd0e26a95...</td><td>Compliance Manager</td><td>2</td><td>MORTGAGE</td><td>61200.0</td><td>OK</td><td>731xx</td><td>USA</td><td>C</td><td>C2</td><td>Verified</td><td>277246.0</td><td>Individual</td><td>null</td><td>null</td><td>2023-10-04 05:38:...</td></tr>\n",
       "<tr><td>bbaf77dea69ad59ba...</td><td>DIRECT CARE WORKER</td><td>3</td><td>OWN</td><td>25000.0</td><td>MO</td><td>654xx</td><td>USA</td><td>C</td><td>C3</td><td>Source Verified</td><td>29198.0</td><td>Individual</td><td>null</td><td>null</td><td>2023-10-04 05:38:...</td></tr>\n",
       "<tr><td>3d5e1eb7b1a075d7c...</td><td>Office Manager</td><td>6</td><td>RENT</td><td>37900.0</td><td>HI</td><td>967xx</td><td>USA</td><td>D</td><td>D2</td><td>Verified</td><td>72700.0</td><td>Individual</td><td>null</td><td>null</td><td>2023-10-04 05:38:...</td></tr>\n",
       "<tr><td>612623c0c3a9d059b...</td><td>null</td><td>6</td><td>MORTGAGE</td><td>65000.0</td><td>WV</td><td>249xx</td><td>USA</td><td>C</td><td>C3</td><td>Source Verified</td><td>42392.0</td><td>Individual</td><td>null</td><td>null</td><td>2023-10-04 05:38:...</td></tr>\n",
       "<tr><td>86b996b457fd7638b...</td><td>server</td><td>10</td><td>MORTGAGE</td><td>21000.0</td><td>TN</td><td>378xx</td><td>USA</td><td>D</td><td>D5</td><td>Not Verified</td><td>86950.0</td><td>Individual</td><td>null</td><td>null</td><td>2023-10-04 05:38:...</td></tr>\n",
       "<tr><td>10d1178370753206e...</td><td>Sales manager</td><td>9</td><td>MORTGAGE</td><td>51500.0</td><td>NY</td><td>144xx</td><td>USA</td><td>C</td><td>C2</td><td>Verified</td><td>304168.0</td><td>Individual</td><td>null</td><td>null</td><td>2023-10-04 05:38:...</td></tr>\n",
       "<tr><td>e1c04d04868a0a682...</td><td>null</td><td>6</td><td>OWN</td><td>30000.0</td><td>AL</td><td>352xx</td><td>USA</td><td>G</td><td>G4</td><td>Verified</td><td>30937.0</td><td>Individual</td><td>null</td><td>null</td><td>2023-10-04 05:38:...</td></tr>\n",
       "<tr><td>dd95dd1fecfde9f21...</td><td>null</td><td>6</td><td>OWN</td><td>47000.0</td><td>NY</td><td>104xx</td><td>USA</td><td>C</td><td>C4</td><td>Verified</td><td>16000.0</td><td>Individual</td><td>null</td><td>null</td><td>2023-10-04 05:38:...</td></tr>\n",
       "<tr><td>fa3bfaa15168f2d93...</td><td>Realtor</td><td>8</td><td>RENT</td><td>101000.0</td><td>CA</td><td>924xx</td><td>USA</td><td>E</td><td>E2</td><td>Source Verified</td><td>69327.0</td><td>Individual</td><td>null</td><td>null</td><td>2023-10-04 05:38:...</td></tr>\n",
       "<tr><td>b85b44eefc1b1fbe6...</td><td>null</td><td>6</td><td>MORTGAGE</td><td>41424.0</td><td>CO</td><td>802xx</td><td>USA</td><td>B</td><td>B5</td><td>Verified</td><td>238009.0</td><td>Individual</td><td>null</td><td>null</td><td>2023-10-04 05:38:...</td></tr>\n",
       "<tr><td>11beb90f7a59a919f...</td><td>Product Manager</td><td>4</td><td>RENT</td><td>89000.0</td><td>NY</td><td>112xx</td><td>USA</td><td>C</td><td>C1</td><td>Source Verified</td><td>7400.0</td><td>Individual</td><td>null</td><td>null</td><td>2023-10-04 05:38:...</td></tr>\n",
       "<tr><td>ad5b7785003587023...</td><td>Jail administrator</td><td>3</td><td>RENT</td><td>50000.0</td><td>OH</td><td>441xx</td><td>USA</td><td>C</td><td>C5</td><td>Not Verified</td><td>48064.0</td><td>Individual</td><td>null</td><td>null</td><td>2023-10-04 05:38:...</td></tr>\n",
       "<tr><td>310d9e8d030c2bd8e...</td><td>Account Executive</td><td>1</td><td>MORTGAGE</td><td>110000.0</td><td>MO</td><td>633xx</td><td>USA</td><td>B</td><td>B4</td><td>Source Verified</td><td>308583.0</td><td>Individual</td><td>null</td><td>null</td><td>2023-10-04 05:38:...</td></tr>\n",
       "<tr><td>43ea746e5009aeb83...</td><td>Senior administrator</td><td>3</td><td>RENT</td><td>70000.0</td><td>MD</td><td>208xx</td><td>USA</td><td>B</td><td>B1</td><td>Source Verified</td><td>48659.0</td><td>Individual</td><td>null</td><td>null</td><td>2023-10-04 05:38:...</td></tr>\n",
       "</table>\n",
       "only showing top 20 rows\n"
      ],
      "text/plain": [
       "+--------------------+--------------------+----------+--------------+-------------+-------------+---------------+---------------+-----+---------+-------------------+---------------+----------------+------------------+-------------------------+--------------------+\n",
       "|           member_id|           emp_title|emp_length|home_ownership|annual_income|address_state|address_zipcode|address_country|grade|sub_grade|verification_status|tot_hi_cred_lim|application_type|join_annual_income|verification_status_joint|         ingest_date|\n",
       "+--------------------+--------------------+----------+--------------+-------------+-------------+---------------+---------------+-----+---------+-------------------+---------------+----------------+------------------+-------------------------+--------------------+\n",
       "|18d46eb3e14a42e71...|        Fire Fighter|        10|      MORTGAGE|      55000.0|           GA|          302xx|            USA|    C|       C2|       Not Verified|       220316.0|      Individual|              null|                     null|2023-10-04 05:38:...|\n",
       "|104ee90ed3b0b8780...|        Sr. Director|         2|      MORTGAGE|     100000.0|           NY|          107xx|            USA|    B|       B2|    Source Verified|       373175.0|      Individual|              null|                     null|2023-10-04 05:38:...|\n",
       "|1c0e7a28d137531ef...|               sales|        10|      MORTGAGE|      50000.0|           TX|          788xx|            USA|    D|       D3|    Source Verified|       115840.0|      Individual|              null|                     null|2023-10-04 05:38:...|\n",
       "|6ca7984eaaed7403d...|             Manager|         6|      MORTGAGE|      84000.0|           NY|          114xx|            USA|    C|       C3|    Source Verified|       442352.0|      Individual|              null|                     null|2023-10-04 05:38:...|\n",
       "|e208bce1f2f07d2c2...|         service tec|         8|      MORTGAGE|      89000.0|           VA|          230xx|            USA|    B|       B4|       Not Verified|       251252.0|      Individual|              null|                     null|2023-10-04 05:38:...|\n",
       "|69df56a361600de61...|      designer/sales|         3|          RENT|      27000.0|           GA|          305xx|            USA|    D|       D2|    Source Verified|        22709.0|      Individual|              null|                     null|2023-10-04 05:38:...|\n",
       "|80815777231a3c2fc...|         Director II|        10|      MORTGAGE|     115000.0|           CA|          953xx|            USA|    C|       C1|           Verified|       349106.0|      Individual|              null|                     null|2023-10-04 05:38:...|\n",
       "|77e3e94b81f696694...|                 RTR|        10|          RENT|      36000.0|           GA|          307xx|            USA|    D|       D5|           Verified|        19800.0|      Individual|              null|                     null|2023-10-04 05:38:...|\n",
       "|3da5a66d6327655c6...|     Medical Records|         2|          RENT|      25000.0|           CO|          800xx|            USA|    C|       C5|           Verified|        59544.0|      Individual|              null|                     null|2023-10-04 05:38:...|\n",
       "|d78ced342d11ad93e...|Front Office Manager|         2|          RENT|      37000.0|           PA|          150xx|            USA|    B|       B4|           Verified|        30636.0|      Individual|              null|                     null|2023-10-04 05:38:...|\n",
       "|7cc882bb7597d170a...|Director Informat...|        10|      MORTGAGE|     216000.0|           CT|          067xx|            USA|    A|       A5|    Source Verified|       336358.0|      Individual|              null|                     null|2023-10-04 05:38:...|\n",
       "|b2bffb6a80879571b...|Premium Account C...|         5|          RENT|      90000.0|           CA|          934xx|            USA|    C|       C5|    Source Verified|        39149.0|      Individual|              null|                     null|2023-10-04 05:38:...|\n",
       "|0438db7d05e5d1580...|Assistant Departm...|        10|          RENT|      75000.0|           CA|          919xx|            USA|    C|       C5|    Source Verified|       125357.0|      Individual|              null|                     null|2023-10-04 05:38:...|\n",
       "|f2d21ccbba4133294...|asst.supervisor t...|        10|      MORTGAGE|      78000.0|           NJ|          070xx|            USA|    E|       E3|    Source Verified|        42325.0|      Individual|              null|                     null|2023-10-04 05:38:...|\n",
       "|d57ecc3ba799678df...|       ships captain|        10|      MORTGAGE|     140000.0|           WA|          980xx|            USA|    A|       A3|       Not Verified|       497744.0|      Individual|              null|                     null|2023-10-04 05:38:...|\n",
       "|4d53ba73811a86bcb...|  RFP Senior Analyst|         2|      MORTGAGE|      92000.0|           IN|          460xx|            USA|    B|       B5|    Source Verified|       547845.0|      Individual|              null|                     null|2023-10-04 05:38:...|\n",
       "|6320b80b01c196eff...|    Freelance Writer|         2|          RENT|      22000.0|           DC|          200xx|            USA|    B|       B5|    Source Verified|         4529.0|      Individual|              null|                     null|2023-10-04 05:38:...|\n",
       "|cecd354f0da22c393...|               Sales|         3|          RENT|      58000.0|           VA|          221xx|            USA|    C|       C2|       Not Verified|        48400.0|      Individual|              null|                     null|2023-10-04 05:38:...|\n",
       "|67700b178e6b96569...|Lerning & Develop...|         9|      MORTGAGE|     110000.0|           CA|          934xx|            USA|    B|       B2|       Not Verified|       479435.0|      Individual|              null|                     null|2023-10-04 05:38:...|\n",
       "|544f8f49f3bf035ad...|Human Resources A...|         3|      MORTGAGE|      58000.0|           OR|          972xx|            USA|    A|       A4|    Source Verified|       215050.0|      Individual|              null|                     null|2023-10-04 05:38:...|\n",
       "+--------------------+--------------------+----------+--------------+-------------+-------------+---------------+---------------+-----+---------+-------------------+---------------+----------------+------------------+-------------------------+--------------------+\n",
       "only showing top 20 rows"
      ]
     },
     "execution_count": 35,
     "metadata": {},
     "output_type": "execute_result"
    }
   ],
   "source": [
    "customers_emplength_replaced"
   ]
  },
  {
   "cell_type": "code",
   "execution_count": 36,
   "id": "0c9e0e47",
   "metadata": {},
   "outputs": [
    {
     "data": {
      "text/plain": [
       "0"
      ]
     },
     "execution_count": 36,
     "metadata": {},
     "output_type": "execute_result"
    }
   ],
   "source": [
    "customers_emplength_replaced.filter(\"emp_length is null\").count()"
   ]
  },
  {
   "cell_type": "markdown",
   "id": "33777dec",
   "metadata": {},
   "source": [
    "#### 8. Clean the address_state(it should be 2 characters only),replace all others with NA"
   ]
  },
  {
   "cell_type": "code",
   "execution_count": 37,
   "id": "8b4e3e20",
   "metadata": {},
   "outputs": [],
   "source": [
    "customers_emplength_replaced.createOrReplaceTempView(\"customers\")"
   ]
  },
  {
   "cell_type": "code",
   "execution_count": 38,
   "id": "171c5e99",
   "metadata": {},
   "outputs": [
    {
     "data": {
      "text/html": [
       "<table border='1'>\n",
       "<tr><th>address_state</th></tr>\n",
       "<tr><td>Helping Kenya&#x27;s D...</td></tr>\n",
       "<tr><td>223xx</td></tr>\n",
       "<tr><td>175 (total projec...</td></tr>\n",
       "<tr><td>AZ</td></tr>\n",
       "<tr><td>SC</td></tr>\n",
       "<tr><td>I am 56 yrs. old ...</td></tr>\n",
       "<tr><td>so Plan &quot;&quot;C&quot;&quot; is ...</td></tr>\n",
       "<tr><td>financially I mad...</td></tr>\n",
       "<tr><td>but no one will l...</td></tr>\n",
       "<tr><td>LA</td></tr>\n",
       "<tr><td>etc.  First</td></tr>\n",
       "<tr><td>MN</td></tr>\n",
       "<tr><td>yet Capital One n...</td></tr>\n",
       "<tr><td>499xx</td></tr>\n",
       "<tr><td>850xx</td></tr>\n",
       "<tr><td>Eliminating Credi...</td></tr>\n",
       "<tr><td>Advocate business...</td></tr>\n",
       "<tr><td>and MBA&#x27;s are ove...</td></tr>\n",
       "<tr><td>951xx</td></tr>\n",
       "<tr><td>662xx</td></tr>\n",
       "</table>\n",
       "only showing top 20 rows\n"
      ],
      "text/plain": [
       "+--------------------+\n",
       "|       address_state|\n",
       "+--------------------+\n",
       "|Helping Kenya's D...|\n",
       "|175 (total projec...|\n",
       "|               223xx|\n",
       "|                  SC|\n",
       "|                  AZ|\n",
       "|so Plan \"\"C\"\" is ...|\n",
       "|I am 56 yrs. old ...|\n",
       "|financially I mad...|\n",
       "|but no one will l...|\n",
       "|                  LA|\n",
       "|         etc.  First|\n",
       "|                  MN|\n",
       "|               499xx|\n",
       "|yet Capital One n...|\n",
       "|               850xx|\n",
       "|and MBA's are ove...|\n",
       "|Eliminating Credi...|\n",
       "|Advocate business...|\n",
       "|I the credit card...|\n",
       "|               951xx|\n",
       "+--------------------+\n",
       "only showing top 20 rows"
      ]
     },
     "execution_count": 38,
     "metadata": {},
     "output_type": "execute_result"
    }
   ],
   "source": [
    "spark.sql(\"select distinct(address_state) from customers\")"
   ]
  },
  {
   "cell_type": "code",
   "execution_count": 39,
   "id": "a75907a6",
   "metadata": {},
   "outputs": [
    {
     "data": {
      "text/html": [
       "<table border='1'>\n",
       "<tr><th>count(address_state)</th></tr>\n",
       "<tr><td>254</td></tr>\n",
       "</table>\n"
      ],
      "text/plain": [
       "+--------------------+\n",
       "|count(address_state)|\n",
       "+--------------------+\n",
       "|                 254|\n",
       "+--------------------+"
      ]
     },
     "execution_count": 39,
     "metadata": {},
     "output_type": "execute_result"
    }
   ],
   "source": [
    "spark.sql(\"select count(address_state) from customers where length(address_state)>2\")"
   ]
  },
  {
   "cell_type": "code",
   "execution_count": 40,
   "id": "773461be",
   "metadata": {},
   "outputs": [],
   "source": [
    "from pyspark.sql.functions import when, col, length"
   ]
  },
  {
   "cell_type": "code",
   "execution_count": 41,
   "id": "0b3a157b",
   "metadata": {},
   "outputs": [],
   "source": [
    "customers_state_cleaned = customers_emplength_replaced.withColumn(\n",
    "    \"address_state\",\n",
    "    when(length(col(\"address_state\"))> 2, \"NA\").otherwise(col(\"address_state\"))\n",
    ")"
   ]
  },
  {
   "cell_type": "code",
   "execution_count": 42,
   "id": "92d6c559",
   "metadata": {},
   "outputs": [
    {
     "data": {
      "text/html": [
       "<table border='1'>\n",
       "<tr><th>member_id</th><th>emp_title</th><th>emp_length</th><th>home_ownership</th><th>annual_income</th><th>address_state</th><th>address_zipcode</th><th>address_country</th><th>grade</th><th>sub_grade</th><th>verification_status</th><th>tot_hi_cred_lim</th><th>application_type</th><th>join_annual_income</th><th>verification_status_joint</th><th>ingest_date</th></tr>\n",
       "<tr><td>d16e2f99a726e8326...</td><td>Sr. Network Desig...</td><td>8</td><td>MORTGAGE</td><td>82000.0</td><td>GA</td><td>301xx</td><td>USA</td><td>B</td><td>B4</td><td>Source Verified</td><td>427673.0</td><td>Individual</td><td>null</td><td>null</td><td>2023-10-04 05:38:...</td></tr>\n",
       "<tr><td>39c7ce3e4838895b4...</td><td>VP Marketing</td><td>10</td><td>RENT</td><td>155000.0</td><td>NY</td><td>105xx</td><td>USA</td><td>B</td><td>B3</td><td>Not Verified</td><td>92200.0</td><td>Individual</td><td>null</td><td>null</td><td>2023-10-04 05:38:...</td></tr>\n",
       "<tr><td>b061c1f3197c674d1...</td><td>Driver</td><td>9</td><td>RENT</td><td>93000.0</td><td>HI</td><td>967xx</td><td>USA</td><td>C</td><td>C5</td><td>Verified</td><td>130019.0</td><td>Individual</td><td>null</td><td>null</td><td>2023-10-04 05:38:...</td></tr>\n",
       "<tr><td>c728d0bd111b0240e...</td><td>Transport Driver ...</td><td>10</td><td>MORTGAGE</td><td>130000.0</td><td>TX</td><td>775xx</td><td>USA</td><td>C</td><td>C5</td><td>Source Verified</td><td>172012.0</td><td>Individual</td><td>null</td><td>null</td><td>2023-10-04 05:38:...</td></tr>\n",
       "<tr><td>4fe2c555c12ec7e02...</td><td>Office Manager</td><td>10</td><td>MORTGAGE</td><td>62000.0</td><td>WA</td><td>985xx</td><td>USA</td><td>F</td><td>F1</td><td>Verified</td><td>333602.0</td><td>Individual</td><td>null</td><td>null</td><td>2023-10-04 05:38:...</td></tr>\n",
       "<tr><td>1e4d2744d484898a7...</td><td>Senior Accountant</td><td>10</td><td>OWN</td><td>74000.0</td><td>KS</td><td>662xx</td><td>USA</td><td>B</td><td>B3</td><td>Verified</td><td>324392.0</td><td>Individual</td><td>null</td><td>null</td><td>2023-10-04 05:38:...</td></tr>\n",
       "<tr><td>4888e607570b21f6c...</td><td>5th Grade Teacher</td><td>10</td><td>MORTGAGE</td><td>72000.0</td><td>GA</td><td>398xx</td><td>USA</td><td>A</td><td>A2</td><td>Verified</td><td>213654.0</td><td>Individual</td><td>null</td><td>null</td><td>2023-10-04 05:38:...</td></tr>\n",
       "<tr><td>03dc367806c43d74d...</td><td>purchaser</td><td>10</td><td>RENT</td><td>59000.0</td><td>CA</td><td>921xx</td><td>USA</td><td>B</td><td>B3</td><td>Verified</td><td>75835.0</td><td>Individual</td><td>null</td><td>null</td><td>2023-10-04 05:38:...</td></tr>\n",
       "<tr><td>59af1f6dae2947b4a...</td><td>Engineer</td><td>10</td><td>MORTGAGE</td><td>110000.0</td><td>OH</td><td>453xx</td><td>USA</td><td>C</td><td>C4</td><td>Source Verified</td><td>296094.0</td><td>Individual</td><td>null</td><td>null</td><td>2023-10-04 05:38:...</td></tr>\n",
       "<tr><td>4ec343b2e7c664944...</td><td>teachers aide</td><td>10</td><td>MORTGAGE</td><td>35000.0</td><td>MO</td><td>641xx</td><td>USA</td><td>F</td><td>F3</td><td>Verified</td><td>65428.0</td><td>Individual</td><td>null</td><td>null</td><td>2023-10-04 05:38:...</td></tr>\n",
       "<tr><td>a730ffb90506a5eaf...</td><td>Lead Journeyman C...</td><td>4</td><td>RENT</td><td>65000.0</td><td>CA</td><td>950xx</td><td>USA</td><td>B</td><td>B2</td><td>Not Verified</td><td>64907.0</td><td>Individual</td><td>null</td><td>null</td><td>2023-10-04 05:38:...</td></tr>\n",
       "<tr><td>3128114582104e79d...</td><td>teacher</td><td>10</td><td>MORTGAGE</td><td>120000.0</td><td>NY</td><td>117xx</td><td>USA</td><td>D</td><td>D5</td><td>Source Verified</td><td>130999.0</td><td>Individual</td><td>null</td><td>null</td><td>2023-10-04 05:38:...</td></tr>\n",
       "<tr><td>3f19061792b28caea...</td><td>Admin</td><td>10</td><td>MORTGAGE</td><td>60000.0</td><td>CA</td><td>913xx</td><td>USA</td><td>A</td><td>A5</td><td>Verified</td><td>53518.0</td><td>Individual</td><td>null</td><td>null</td><td>2023-10-04 05:38:...</td></tr>\n",
       "<tr><td>9d4d3e50143a4b889...</td><td>Victim Advocate</td><td>2</td><td>MORTGAGE</td><td>42000.0</td><td>NV</td><td>895xx</td><td>USA</td><td>B</td><td>B2</td><td>Not Verified</td><td>150643.0</td><td>Individual</td><td>null</td><td>null</td><td>2023-10-04 05:38:...</td></tr>\n",
       "<tr><td>5672b8b6e7c4804c3...</td><td>Retail Sales Repr...</td><td>1</td><td>OWN</td><td>45000.0</td><td>NJ</td><td>086xx</td><td>USA</td><td>C</td><td>C1</td><td>Verified</td><td>94357.0</td><td>Individual</td><td>null</td><td>null</td><td>2023-10-04 05:38:...</td></tr>\n",
       "<tr><td>da6714c4a06fb7e7b...</td><td>Claims Manager</td><td>3</td><td>MORTGAGE</td><td>51519.0</td><td>TN</td><td>371xx</td><td>USA</td><td>E</td><td>E3</td><td>Not Verified</td><td>220338.0</td><td>Individual</td><td>null</td><td>null</td><td>2023-10-04 05:38:...</td></tr>\n",
       "<tr><td>a9811349746bd2f39...</td><td>acount manager</td><td>10</td><td>MORTGAGE</td><td>86000.0</td><td>FL</td><td>330xx</td><td>USA</td><td>D</td><td>D2</td><td>Verified</td><td>370067.0</td><td>Individual</td><td>null</td><td>null</td><td>2023-10-04 05:38:...</td></tr>\n",
       "<tr><td>31d5deee5c1cef10a...</td><td>Store Manager</td><td>10</td><td>RENT</td><td>65000.0</td><td>NY</td><td>121xx</td><td>USA</td><td>C</td><td>C3</td><td>Source Verified</td><td>35674.0</td><td>Individual</td><td>null</td><td>null</td><td>2023-10-04 05:38:...</td></tr>\n",
       "<tr><td>b6e0ce19dfe869d41...</td><td>Training Specialist</td><td>1</td><td>MORTGAGE</td><td>43000.0</td><td>IN</td><td>475xx</td><td>USA</td><td>B</td><td>B5</td><td>Source Verified</td><td>271762.0</td><td>Individual</td><td>null</td><td>null</td><td>2023-10-04 05:38:...</td></tr>\n",
       "<tr><td>5159a0bc741223014...</td><td>electronic techni...</td><td>9</td><td>MORTGAGE</td><td>60000.0</td><td>CA</td><td>921xx</td><td>USA</td><td>C</td><td>C2</td><td>Not Verified</td><td>47265.0</td><td>Individual</td><td>null</td><td>null</td><td>2023-10-04 05:38:...</td></tr>\n",
       "</table>\n",
       "only showing top 20 rows\n"
      ],
      "text/plain": [
       "+--------------------+--------------------+----------+--------------+-------------+-------------+---------------+---------------+-----+---------+-------------------+---------------+----------------+------------------+-------------------------+--------------------+\n",
       "|           member_id|           emp_title|emp_length|home_ownership|annual_income|address_state|address_zipcode|address_country|grade|sub_grade|verification_status|tot_hi_cred_lim|application_type|join_annual_income|verification_status_joint|         ingest_date|\n",
       "+--------------------+--------------------+----------+--------------+-------------+-------------+---------------+---------------+-----+---------+-------------------+---------------+----------------+------------------+-------------------------+--------------------+\n",
       "|241db6044285dac88...|                null|         6|          RENT|      15000.0|           IL|          614xx|            USA|    B|       B4|       Not Verified|        20825.0|      Individual|              null|                     null|2023-10-04 05:38:...|\n",
       "|bd4052cdebbe1e335...|       Dealer Center|        10|           OWN|      52000.0|           CA|          945xx|            USA|    D|       D1|           Verified|       283000.0|      Individual|              null|                     null|2023-10-04 05:38:...|\n",
       "|8d94e46facf4afd75...|        Truck driver|        10|      MORTGAGE|      75000.0|           TX|          797xx|            USA|    B|       B2|    Source Verified|       126003.0|      Individual|              null|                     null|2023-10-04 05:38:...|\n",
       "|06e165e3eb8861c5a...|                null|         6|      MORTGAGE|      79000.0|           TN|          373xx|            USA|    C|       C1|       Not Verified|       238159.0|      Individual|              null|                     null|2023-10-04 05:38:...|\n",
       "|067e118fb4763926d...|                null|         6|           OWN|      39433.0|           TX|          785xx|            USA|    A|       A4|           Verified|        31828.0|      Individual|              null|                     null|2023-10-04 05:38:...|\n",
       "|d7574166c13bb0c80...|               Owner|        10|      MORTGAGE|      63000.0|           NC|          272xx|            USA|    D|       D5|    Source Verified|       147899.0|      Individual|              null|                     null|2023-10-04 05:38:...|\n",
       "|f0b597990ec2a3040...|                null|         6|          RENT|      54000.0|           NV|          894xx|            USA|    C|       C4|    Source Verified|        34900.0|      Individual|              null|                     null|2023-10-04 05:38:...|\n",
       "|7ee995178547250ea...|     Deputy Sherriff|        10|      MORTGAGE|     120000.0|           CA|          958xx|            USA|    A|       A4|       Not Verified|       181877.0|      Individual|              null|                     null|2023-10-04 05:38:...|\n",
       "|e8ada0cc43f82f03d...|      police captain|        10|      MORTGAGE|     130000.0|           NY|          103xx|            USA|    D|       D2|           Verified|       436670.0|      Individual|              null|                     null|2023-10-04 05:38:...|\n",
       "|1ed45903c698e4abe...|Office Administrator|        10|      MORTGAGE|     170000.0|           CA|          930xx|            USA|    B|       B4|    Source Verified|       437140.0|      Individual|              null|                     null|2023-10-04 05:38:...|\n",
       "|8fa560da7e36423f7...|    Dental Hygeinist|        10|      MORTGAGE|      72000.0|           OH|          430xx|            USA|    A|       A3|           Verified|       137100.0|       Joint App|          112000.0|          Source Verified|2023-10-04 05:38:...|\n",
       "|47bb5bb94564054de...|     Senior Director|        10|          RENT|     155924.0|           NY|          100xx|            USA|    B|       B4|    Source Verified|        81216.0|      Individual|              null|                     null|2023-10-04 05:38:...|\n",
       "|892de68f95becee2f...| maintenance planner|        10|      MORTGAGE|     130000.0|           NM|          874xx|            USA|    B|       B1|       Not Verified|       288657.0|      Individual|              null|                     null|2023-10-04 05:38:...|\n",
       "|b40682b306e4a7084...|Assistant Propert...|         1|          RENT|      48000.0|           CA|          940xx|            USA|    B|       B4|    Source Verified|        14900.0|      Individual|              null|                     null|2023-10-04 05:38:...|\n",
       "|e43d8ab4e5fcc4ef2...|Operations Manage...|         4|          RENT|      68000.0|           IL|          611xx|            USA|    A|       A1|    Source Verified|       187393.0|      Individual|              null|                     null|2023-10-04 05:38:...|\n",
       "|fc3b33f858ae7c6e7...|   Golf Course Staff|        10|      MORTGAGE|      62000.0|           NC|          278xx|            USA|    B|       B5|    Source Verified|       148900.0|      Individual|              null|                     null|2023-10-04 05:38:...|\n",
       "|86f6ecb0a1143fada...|Medical Administr...|        10|      MORTGAGE|      98000.0|           MD|          212xx|            USA|    C|       C2|    Source Verified|       166984.0|      Individual|              null|                     null|2023-10-04 05:38:...|\n",
       "|023265510340981ea...|            Mechanic|        10|      MORTGAGE|     75718.87|           DE|          199xx|            USA|    A|       A3|    Source Verified|       330265.0|      Individual|              null|                     null|2023-10-04 05:38:...|\n",
       "|06d8b2dc38cf9b8bd...|   Massage Therapist|         7|          RENT|      40000.0|           MD|          210xx|            USA|    D|       D2|       Not Verified|        67825.0|       Joint App|           85000.0|             Not Verified|2023-10-04 05:38:...|\n",
       "|f055e21dc8e5e0be4...|                  Rt|         1|          RENT|      60000.0|           CA|          925xx|            USA|    A|       A1|    Source Verified|        91742.0|      Individual|              null|                     null|2023-10-04 05:38:...|\n",
       "+--------------------+--------------------+----------+--------------+-------------+-------------+---------------+---------------+-----+---------+-------------------+---------------+----------------+------------------+-------------------------+--------------------+\n",
       "only showing top 20 rows"
      ]
     },
     "execution_count": 42,
     "metadata": {},
     "output_type": "execute_result"
    }
   ],
   "source": [
    "customers_state_cleaned"
   ]
  },
  {
   "cell_type": "code",
   "execution_count": 43,
   "id": "fec2d09d",
   "metadata": {},
   "outputs": [
    {
     "data": {
      "text/html": [
       "<table border='1'>\n",
       "<tr><th>address_state</th></tr>\n",
       "<tr><td>AZ</td></tr>\n",
       "<tr><td>SC</td></tr>\n",
       "<tr><td>LA</td></tr>\n",
       "<tr><td>MN</td></tr>\n",
       "<tr><td>NJ</td></tr>\n",
       "<tr><td>DC</td></tr>\n",
       "<tr><td>OR</td></tr>\n",
       "<tr><td>NA</td></tr>\n",
       "<tr><td>VA</td></tr>\n",
       "<tr><td>null</td></tr>\n",
       "<tr><td>RI</td></tr>\n",
       "<tr><td>KY</td></tr>\n",
       "<tr><td>WY</td></tr>\n",
       "<tr><td>NH</td></tr>\n",
       "<tr><td>MI</td></tr>\n",
       "<tr><td>NV</td></tr>\n",
       "<tr><td>WI</td></tr>\n",
       "<tr><td>ID</td></tr>\n",
       "<tr><td>CA</td></tr>\n",
       "<tr><td>CT</td></tr>\n",
       "</table>\n",
       "only showing top 20 rows\n"
      ],
      "text/plain": [
       "+-------------+\n",
       "|address_state|\n",
       "+-------------+\n",
       "|           SC|\n",
       "|           AZ|\n",
       "|           LA|\n",
       "|           MN|\n",
       "|           NJ|\n",
       "|           DC|\n",
       "|           OR|\n",
       "|           NA|\n",
       "|           VA|\n",
       "|         null|\n",
       "|           RI|\n",
       "|           WY|\n",
       "|           KY|\n",
       "|           NH|\n",
       "|           MI|\n",
       "|           NV|\n",
       "|           WI|\n",
       "|           ID|\n",
       "|           CA|\n",
       "|           NE|\n",
       "+-------------+\n",
       "only showing top 20 rows"
      ]
     },
     "execution_count": 43,
     "metadata": {},
     "output_type": "execute_result"
    }
   ],
   "source": [
    "customers_state_cleaned.select(\"address_state\").distinct()"
   ]
  },
  {
   "cell_type": "code",
   "execution_count": 44,
   "id": "51155c3b",
   "metadata": {},
   "outputs": [],
   "source": [
    "customers_state_cleaned.write \\\n",
    ".format(\"parquet\") \\\n",
    ".mode(\"overwrite\") \\\n",
    ".option(\"path\", \"/user/itv006277/lendingclubproject/raw/cleaned/customers_parquet\") \\\n",
    ".save()"
   ]
  },
  {
   "cell_type": "code",
   "execution_count": 45,
   "id": "a9f8cb56",
   "metadata": {},
   "outputs": [],
   "source": [
    "customers_state_cleaned.write \\\n",
    ".option(\"header\", True) \\\n",
    ".format(\"csv\") \\\n",
    ".mode(\"overwrite\") \\\n",
    ".option(\"path\", \"/user/itv006277/lendingclubproject/raw/cleaned/customers_csv\") \\\n",
    ".save()"
   ]
  }
 ],
 "metadata": {
  "kernelspec": {
   "display_name": "Pyspark 3",
   "language": "python",
   "name": "pyspark3"
  },
  "language_info": {
   "codemirror_mode": {
    "name": "ipython",
    "version": 3
   },
   "file_extension": ".py",
   "mimetype": "text/x-python",
   "name": "python",
   "nbconvert_exporter": "python",
   "pygments_lexer": "ipython3",
   "version": "3.6.12"
  }
 },
 "nbformat": 4,
 "nbformat_minor": 5
}

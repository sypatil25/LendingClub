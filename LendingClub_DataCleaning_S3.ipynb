{
 "cells": [
  {
   "cell_type": "code",
   "execution_count": 1,
   "id": "625dc4e4",
   "metadata": {},
   "outputs": [],
   "source": [
    "from pyspark.sql import SparkSession\n",
    "import getpass \n",
    "username=getpass.getuser()\n",
    "spark=SparkSession. \\\n",
    "    builder. \\\n",
    "    config('spark.ui.port','0'). \\\n",
    "    config(\"spark.sql.warehouse.dir\", f\"/user/{username}/warehouse\"). \\\n",
    "    config('spark.shuffle.useOldFetchProtocol', 'true'). \\\n",
    "    enableHiveSupport(). \\\n",
    "    master('yarn'). \\\n",
    "    getOrCreate()"
   ]
  },
  {
   "cell_type": "code",
   "execution_count": 2,
   "id": "e9bb08e1",
   "metadata": {},
   "outputs": [],
   "source": [
    "loans_repay_raw_df = spark.read \\\n",
    ".format(\"csv\") \\\n",
    ".option(\"header\",True) \\\n",
    ".option(\"inferSchema\", True) \\\n",
    ".load(\"/public/trendytech/lendingclubproject/raw/loans_repayments_csv\")"
   ]
  },
  {
   "cell_type": "code",
   "execution_count": 3,
   "id": "9726b48e",
   "metadata": {},
   "outputs": [
    {
     "data": {
      "text/html": [
       "<table border='1'>\n",
       "<tr><th>loan_id</th><th>total_rec_prncp</th><th>total_rec_int</th><th>total_rec_late_fee</th><th>total_pymnt</th><th>last_pymnt_amnt</th><th>last_pymnt_d</th><th>next_pymnt_d</th></tr>\n",
       "<tr><td>141581221</td><td>1055.81</td><td>2591.7</td><td>0.0</td><td>3647.51</td><td>709.23</td><td>Mar-2019</td><td>Apr-2019</td></tr>\n",
       "<tr><td>141506948</td><td>1252.75</td><td>306.04</td><td>0.0</td><td>1558.79</td><td>312.63</td><td>Mar-2019</td><td>Apr-2019</td></tr>\n",
       "<tr><td>141357400</td><td>626.37</td><td>354.96</td><td>0.0</td><td>981.33</td><td>197.27</td><td>Mar-2019</td><td>Apr-2019</td></tr>\n",
       "<tr><td>139445427</td><td>1118.16</td><td>297.36</td><td>0.0</td><td>1415.52</td><td>283.95</td><td>Mar-2019</td><td>Apr-2019</td></tr>\n",
       "<tr><td>141407409</td><td>1169.72</td><td>3605.3</td><td>0.0</td><td>4775.02</td><td>964.9</td><td>Mar-2019</td><td>Apr-2019</td></tr>\n",
       "<tr><td>141360802</td><td>2313.98</td><td>2512.88</td><td>0.0</td><td>4826.86</td><td>952.02</td><td>Mar-2019</td><td>Apr-2019</td></tr>\n",
       "<tr><td>141163960</td><td>4689.63</td><td>1994.93</td><td>0.0</td><td>6684.56</td><td>1342.57</td><td>Mar-2019</td><td>Apr-2019</td></tr>\n",
       "<tr><td>141533932</td><td>585.29</td><td>640.53</td><td>15.0</td><td>1240.82</td><td>235.13</td><td>Mar-2019</td><td>Apr-2019</td></tr>\n",
       "<tr><td>141441276</td><td>2030.82</td><td>762.81</td><td>0.0</td><td>2793.63</td><td>477.62</td><td>Mar-2019</td><td>Apr-2019</td></tr>\n",
       "<tr><td>141569080</td><td>1803.55</td><td>1110.59</td><td>0.0</td><td>2914.14</td><td>585.91</td><td>Mar-2019</td><td>Apr-2019</td></tr>\n",
       "<tr><td>140961277</td><td>1144.71</td><td>559.56</td><td>0.0</td><td>1704.27</td><td>344.07</td><td>Mar-2019</td><td>Apr-2019</td></tr>\n",
       "<tr><td>141466656</td><td>1297.9</td><td>838.42</td><td>0.0</td><td>2136.32</td><td>429.59</td><td>Mar-2019</td><td>Apr-2019</td></tr>\n",
       "<tr><td>141575085</td><td>613.26</td><td>510.47</td><td>0.0</td><td>1123.73</td><td>226.16</td><td>Mar-2019</td><td>Apr-2019</td></tr>\n",
       "<tr><td>141429235</td><td>4008.76</td><td>1058.83</td><td>0.0</td><td>5067.59</td><td>1000.41</td><td>Mar-2019</td><td>Apr-2019</td></tr>\n",
       "<tr><td>141545082</td><td>1297.9</td><td>838.42</td><td>0.0</td><td>2136.32</td><td>429.59</td><td>Mar-2019</td><td>Apr-2019</td></tr>\n",
       "<tr><td>141584203</td><td>747.08</td><td>243.73</td><td>0.0</td><td>990.81</td><td>193.84</td><td>Mar-2019</td><td>Apr-2019</td></tr>\n",
       "<tr><td>141201047</td><td>2266.29</td><td>1184.57</td><td>34.68</td><td>3485.54</td><td>693.51</td><td>Mar-2019</td><td>Apr-2019</td></tr>\n",
       "<tr><td>140580869</td><td>1450.9</td><td>491.42</td><td>0.0</td><td>1942.32</td><td>389.86</td><td>Mar-2019</td><td>Apr-2019</td></tr>\n",
       "<tr><td>141539871</td><td>2290.47</td><td>468.26</td><td>0.0</td><td>2758.73</td><td>553.08</td><td>Mar-2019</td><td>Apr-2019</td></tr>\n",
       "<tr><td>141386443</td><td>1173.43</td><td>1161.79</td><td>0.0</td><td>2335.22</td><td>470.26</td><td>Mar-2019</td><td>Apr-2019</td></tr>\n",
       "</table>\n",
       "only showing top 20 rows\n"
      ],
      "text/plain": [
       "+---------+---------------+-------------+------------------+-----------+---------------+------------+------------+\n",
       "|  loan_id|total_rec_prncp|total_rec_int|total_rec_late_fee|total_pymnt|last_pymnt_amnt|last_pymnt_d|next_pymnt_d|\n",
       "+---------+---------------+-------------+------------------+-----------+---------------+------------+------------+\n",
       "|141581221|        1055.81|       2591.7|               0.0|    3647.51|         709.23|    Mar-2019|    Apr-2019|\n",
       "|141506948|        1252.75|       306.04|               0.0|    1558.79|         312.63|    Mar-2019|    Apr-2019|\n",
       "|141357400|         626.37|       354.96|               0.0|     981.33|         197.27|    Mar-2019|    Apr-2019|\n",
       "|139445427|        1118.16|       297.36|               0.0|    1415.52|         283.95|    Mar-2019|    Apr-2019|\n",
       "|141407409|        1169.72|       3605.3|               0.0|    4775.02|          964.9|    Mar-2019|    Apr-2019|\n",
       "|141360802|        2313.98|      2512.88|               0.0|    4826.86|         952.02|    Mar-2019|    Apr-2019|\n",
       "|141163960|        4689.63|      1994.93|               0.0|    6684.56|        1342.57|    Mar-2019|    Apr-2019|\n",
       "|141533932|         585.29|       640.53|              15.0|    1240.82|         235.13|    Mar-2019|    Apr-2019|\n",
       "|141441276|        2030.82|       762.81|               0.0|    2793.63|         477.62|    Mar-2019|    Apr-2019|\n",
       "|141569080|        1803.55|      1110.59|               0.0|    2914.14|         585.91|    Mar-2019|    Apr-2019|\n",
       "|140961277|        1144.71|       559.56|               0.0|    1704.27|         344.07|    Mar-2019|    Apr-2019|\n",
       "|141466656|         1297.9|       838.42|               0.0|    2136.32|         429.59|    Mar-2019|    Apr-2019|\n",
       "|141575085|         613.26|       510.47|               0.0|    1123.73|         226.16|    Mar-2019|    Apr-2019|\n",
       "|141429235|        4008.76|      1058.83|               0.0|    5067.59|        1000.41|    Mar-2019|    Apr-2019|\n",
       "|141545082|         1297.9|       838.42|               0.0|    2136.32|         429.59|    Mar-2019|    Apr-2019|\n",
       "|141584203|         747.08|       243.73|               0.0|     990.81|         193.84|    Mar-2019|    Apr-2019|\n",
       "|141201047|        2266.29|      1184.57|             34.68|    3485.54|         693.51|    Mar-2019|    Apr-2019|\n",
       "|140580869|         1450.9|       491.42|               0.0|    1942.32|         389.86|    Mar-2019|    Apr-2019|\n",
       "|141539871|        2290.47|       468.26|               0.0|    2758.73|         553.08|    Mar-2019|    Apr-2019|\n",
       "|141386443|        1173.43|      1161.79|               0.0|    2335.22|         470.26|    Mar-2019|    Apr-2019|\n",
       "+---------+---------------+-------------+------------------+-----------+---------------+------------+------------+\n",
       "only showing top 20 rows"
      ]
     },
     "execution_count": 3,
     "metadata": {},
     "output_type": "execute_result"
    }
   ],
   "source": [
    "loans_repay_raw_df"
   ]
  },
  {
   "cell_type": "code",
   "execution_count": 4,
   "id": "b7324b9c",
   "metadata": {},
   "outputs": [
    {
     "name": "stdout",
     "output_type": "stream",
     "text": [
      "root\n",
      " |-- loan_id: string (nullable = true)\n",
      " |-- total_rec_prncp: string (nullable = true)\n",
      " |-- total_rec_int: string (nullable = true)\n",
      " |-- total_rec_late_fee: string (nullable = true)\n",
      " |-- total_pymnt: string (nullable = true)\n",
      " |-- last_pymnt_amnt: string (nullable = true)\n",
      " |-- last_pymnt_d: string (nullable = true)\n",
      " |-- next_pymnt_d: string (nullable = true)\n",
      "\n"
     ]
    }
   ],
   "source": [
    "loans_repay_raw_df.printSchema()"
   ]
  },
  {
   "cell_type": "code",
   "execution_count": 5,
   "id": "910ecdb2",
   "metadata": {},
   "outputs": [],
   "source": [
    "loans_repay_schema = 'loan_id string, total_principal_received float, total_interest_received float, total_late_fee_received float, total_payment_received float, last_payment_amount float, last_payment_date string, next_payment_date string'"
   ]
  },
  {
   "cell_type": "code",
   "execution_count": 6,
   "id": "a5d708b7",
   "metadata": {},
   "outputs": [],
   "source": [
    "loans_repay_raw_df = spark.read \\\n",
    ".format(\"csv\") \\\n",
    ".option(\"header\",True) \\\n",
    ".schema(loans_repay_schema) \\\n",
    ".load(\"/public/trendytech/lendingclubproject/raw/loans_repayments_csv\")"
   ]
  },
  {
   "cell_type": "code",
   "execution_count": 7,
   "id": "9660be60",
   "metadata": {},
   "outputs": [
    {
     "name": "stdout",
     "output_type": "stream",
     "text": [
      "root\n",
      " |-- loan_id: string (nullable = true)\n",
      " |-- total_principal_received: float (nullable = true)\n",
      " |-- total_interest_received: float (nullable = true)\n",
      " |-- total_late_fee_received: float (nullable = true)\n",
      " |-- total_payment_received: float (nullable = true)\n",
      " |-- last_payment_amount: float (nullable = true)\n",
      " |-- last_payment_date: string (nullable = true)\n",
      " |-- next_payment_date: string (nullable = true)\n",
      "\n"
     ]
    }
   ],
   "source": [
    "loans_repay_raw_df.printSchema()"
   ]
  },
  {
   "cell_type": "code",
   "execution_count": 8,
   "id": "4f75ee7b",
   "metadata": {},
   "outputs": [],
   "source": [
    "from pyspark.sql.functions import current_timestamp"
   ]
  },
  {
   "cell_type": "code",
   "execution_count": 9,
   "id": "f6b90475",
   "metadata": {},
   "outputs": [],
   "source": [
    "loans_repay_df_ingestd = loans_repay_raw_df.withColumn(\"ingest_date\", current_timestamp())"
   ]
  },
  {
   "cell_type": "code",
   "execution_count": 10,
   "id": "aed26209",
   "metadata": {},
   "outputs": [
    {
     "data": {
      "text/html": [
       "<table border='1'>\n",
       "<tr><th>loan_id</th><th>total_principal_received</th><th>total_interest_received</th><th>total_late_fee_received</th><th>total_payment_received</th><th>last_payment_amount</th><th>last_payment_date</th><th>next_payment_date</th><th>ingest_date</th></tr>\n",
       "<tr><td>141581221</td><td>1055.81</td><td>2591.7</td><td>0.0</td><td>3647.51</td><td>709.23</td><td>Mar-2019</td><td>Apr-2019</td><td>2023-10-04 05:40:...</td></tr>\n",
       "<tr><td>141506948</td><td>1252.75</td><td>306.04</td><td>0.0</td><td>1558.79</td><td>312.63</td><td>Mar-2019</td><td>Apr-2019</td><td>2023-10-04 05:40:...</td></tr>\n",
       "<tr><td>141357400</td><td>626.37</td><td>354.96</td><td>0.0</td><td>981.33</td><td>197.27</td><td>Mar-2019</td><td>Apr-2019</td><td>2023-10-04 05:40:...</td></tr>\n",
       "<tr><td>139445427</td><td>1118.16</td><td>297.36</td><td>0.0</td><td>1415.52</td><td>283.95</td><td>Mar-2019</td><td>Apr-2019</td><td>2023-10-04 05:40:...</td></tr>\n",
       "<tr><td>141407409</td><td>1169.72</td><td>3605.3</td><td>0.0</td><td>4775.02</td><td>964.9</td><td>Mar-2019</td><td>Apr-2019</td><td>2023-10-04 05:40:...</td></tr>\n",
       "<tr><td>141360802</td><td>2313.98</td><td>2512.88</td><td>0.0</td><td>4826.86</td><td>952.02</td><td>Mar-2019</td><td>Apr-2019</td><td>2023-10-04 05:40:...</td></tr>\n",
       "<tr><td>141163960</td><td>4689.63</td><td>1994.93</td><td>0.0</td><td>6684.56</td><td>1342.57</td><td>Mar-2019</td><td>Apr-2019</td><td>2023-10-04 05:40:...</td></tr>\n",
       "<tr><td>141533932</td><td>585.29</td><td>640.53</td><td>15.0</td><td>1240.82</td><td>235.13</td><td>Mar-2019</td><td>Apr-2019</td><td>2023-10-04 05:40:...</td></tr>\n",
       "<tr><td>141441276</td><td>2030.82</td><td>762.81</td><td>0.0</td><td>2793.63</td><td>477.62</td><td>Mar-2019</td><td>Apr-2019</td><td>2023-10-04 05:40:...</td></tr>\n",
       "<tr><td>141569080</td><td>1803.55</td><td>1110.59</td><td>0.0</td><td>2914.14</td><td>585.91</td><td>Mar-2019</td><td>Apr-2019</td><td>2023-10-04 05:40:...</td></tr>\n",
       "<tr><td>140961277</td><td>1144.71</td><td>559.56</td><td>0.0</td><td>1704.27</td><td>344.07</td><td>Mar-2019</td><td>Apr-2019</td><td>2023-10-04 05:40:...</td></tr>\n",
       "<tr><td>141466656</td><td>1297.9</td><td>838.42</td><td>0.0</td><td>2136.32</td><td>429.59</td><td>Mar-2019</td><td>Apr-2019</td><td>2023-10-04 05:40:...</td></tr>\n",
       "<tr><td>141575085</td><td>613.26</td><td>510.47</td><td>0.0</td><td>1123.73</td><td>226.16</td><td>Mar-2019</td><td>Apr-2019</td><td>2023-10-04 05:40:...</td></tr>\n",
       "<tr><td>141429235</td><td>4008.76</td><td>1058.83</td><td>0.0</td><td>5067.59</td><td>1000.41</td><td>Mar-2019</td><td>Apr-2019</td><td>2023-10-04 05:40:...</td></tr>\n",
       "<tr><td>141545082</td><td>1297.9</td><td>838.42</td><td>0.0</td><td>2136.32</td><td>429.59</td><td>Mar-2019</td><td>Apr-2019</td><td>2023-10-04 05:40:...</td></tr>\n",
       "<tr><td>141584203</td><td>747.08</td><td>243.73</td><td>0.0</td><td>990.81</td><td>193.84</td><td>Mar-2019</td><td>Apr-2019</td><td>2023-10-04 05:40:...</td></tr>\n",
       "<tr><td>141201047</td><td>2266.29</td><td>1184.57</td><td>34.68</td><td>3485.54</td><td>693.51</td><td>Mar-2019</td><td>Apr-2019</td><td>2023-10-04 05:40:...</td></tr>\n",
       "<tr><td>140580869</td><td>1450.9</td><td>491.42</td><td>0.0</td><td>1942.32</td><td>389.86</td><td>Mar-2019</td><td>Apr-2019</td><td>2023-10-04 05:40:...</td></tr>\n",
       "<tr><td>141539871</td><td>2290.47</td><td>468.26</td><td>0.0</td><td>2758.73</td><td>553.08</td><td>Mar-2019</td><td>Apr-2019</td><td>2023-10-04 05:40:...</td></tr>\n",
       "<tr><td>141386443</td><td>1173.43</td><td>1161.79</td><td>0.0</td><td>2335.22</td><td>470.26</td><td>Mar-2019</td><td>Apr-2019</td><td>2023-10-04 05:40:...</td></tr>\n",
       "</table>\n",
       "only showing top 20 rows\n"
      ],
      "text/plain": [
       "+---------+------------------------+-----------------------+-----------------------+----------------------+-------------------+-----------------+-----------------+--------------------+\n",
       "|  loan_id|total_principal_received|total_interest_received|total_late_fee_received|total_payment_received|last_payment_amount|last_payment_date|next_payment_date|         ingest_date|\n",
       "+---------+------------------------+-----------------------+-----------------------+----------------------+-------------------+-----------------+-----------------+--------------------+\n",
       "|141581221|                 1055.81|                 2591.7|                    0.0|               3647.51|             709.23|         Mar-2019|         Apr-2019|2023-10-04 05:40:...|\n",
       "|141506948|                 1252.75|                 306.04|                    0.0|               1558.79|             312.63|         Mar-2019|         Apr-2019|2023-10-04 05:40:...|\n",
       "|141357400|                  626.37|                 354.96|                    0.0|                981.33|             197.27|         Mar-2019|         Apr-2019|2023-10-04 05:40:...|\n",
       "|139445427|                 1118.16|                 297.36|                    0.0|               1415.52|             283.95|         Mar-2019|         Apr-2019|2023-10-04 05:40:...|\n",
       "|141407409|                 1169.72|                 3605.3|                    0.0|               4775.02|              964.9|         Mar-2019|         Apr-2019|2023-10-04 05:40:...|\n",
       "|141360802|                 2313.98|                2512.88|                    0.0|               4826.86|             952.02|         Mar-2019|         Apr-2019|2023-10-04 05:40:...|\n",
       "|141163960|                 4689.63|                1994.93|                    0.0|               6684.56|            1342.57|         Mar-2019|         Apr-2019|2023-10-04 05:40:...|\n",
       "|141533932|                  585.29|                 640.53|                   15.0|               1240.82|             235.13|         Mar-2019|         Apr-2019|2023-10-04 05:40:...|\n",
       "|141441276|                 2030.82|                 762.81|                    0.0|               2793.63|             477.62|         Mar-2019|         Apr-2019|2023-10-04 05:40:...|\n",
       "|141569080|                 1803.55|                1110.59|                    0.0|               2914.14|             585.91|         Mar-2019|         Apr-2019|2023-10-04 05:40:...|\n",
       "|140961277|                 1144.71|                 559.56|                    0.0|               1704.27|             344.07|         Mar-2019|         Apr-2019|2023-10-04 05:40:...|\n",
       "|141466656|                  1297.9|                 838.42|                    0.0|               2136.32|             429.59|         Mar-2019|         Apr-2019|2023-10-04 05:40:...|\n",
       "|141575085|                  613.26|                 510.47|                    0.0|               1123.73|             226.16|         Mar-2019|         Apr-2019|2023-10-04 05:40:...|\n",
       "|141429235|                 4008.76|                1058.83|                    0.0|               5067.59|            1000.41|         Mar-2019|         Apr-2019|2023-10-04 05:40:...|\n",
       "|141545082|                  1297.9|                 838.42|                    0.0|               2136.32|             429.59|         Mar-2019|         Apr-2019|2023-10-04 05:40:...|\n",
       "|141584203|                  747.08|                 243.73|                    0.0|                990.81|             193.84|         Mar-2019|         Apr-2019|2023-10-04 05:40:...|\n",
       "|141201047|                 2266.29|                1184.57|                  34.68|               3485.54|             693.51|         Mar-2019|         Apr-2019|2023-10-04 05:40:...|\n",
       "|140580869|                  1450.9|                 491.42|                    0.0|               1942.32|             389.86|         Mar-2019|         Apr-2019|2023-10-04 05:40:...|\n",
       "|141539871|                 2290.47|                 468.26|                    0.0|               2758.73|             553.08|         Mar-2019|         Apr-2019|2023-10-04 05:40:...|\n",
       "|141386443|                 1173.43|                1161.79|                    0.0|               2335.22|             470.26|         Mar-2019|         Apr-2019|2023-10-04 05:40:...|\n",
       "+---------+------------------------+-----------------------+-----------------------+----------------------+-------------------+-----------------+-----------------+--------------------+\n",
       "only showing top 20 rows"
      ]
     },
     "execution_count": 10,
     "metadata": {},
     "output_type": "execute_result"
    }
   ],
   "source": [
    "loans_repay_df_ingestd"
   ]
  },
  {
   "cell_type": "code",
   "execution_count": 11,
   "id": "2562a5e4",
   "metadata": {},
   "outputs": [
    {
     "name": "stdout",
     "output_type": "stream",
     "text": [
      "root\n",
      " |-- loan_id: string (nullable = true)\n",
      " |-- total_principal_received: float (nullable = true)\n",
      " |-- total_interest_received: float (nullable = true)\n",
      " |-- total_late_fee_received: float (nullable = true)\n",
      " |-- total_payment_received: float (nullable = true)\n",
      " |-- last_payment_amount: float (nullable = true)\n",
      " |-- last_payment_date: string (nullable = true)\n",
      " |-- next_payment_date: string (nullable = true)\n",
      " |-- ingest_date: timestamp (nullable = false)\n",
      "\n"
     ]
    }
   ],
   "source": [
    "loans_repay_df_ingestd.printSchema()"
   ]
  },
  {
   "cell_type": "code",
   "execution_count": 12,
   "id": "0072a360",
   "metadata": {},
   "outputs": [
    {
     "data": {
      "text/plain": [
       "2260701"
      ]
     },
     "execution_count": 12,
     "metadata": {},
     "output_type": "execute_result"
    }
   ],
   "source": [
    "loans_repay_df_ingestd.count()"
   ]
  },
  {
   "cell_type": "code",
   "execution_count": 13,
   "id": "2d54de9e",
   "metadata": {},
   "outputs": [],
   "source": [
    "loans_repay_df_ingestd.createOrReplaceTempView(\"loan_repayments\")"
   ]
  },
  {
   "cell_type": "code",
   "execution_count": 14,
   "id": "ea819bc9",
   "metadata": {},
   "outputs": [
    {
     "data": {
      "text/html": [
       "<table border='1'>\n",
       "<tr><th>count(1)</th></tr>\n",
       "<tr><td>69</td></tr>\n",
       "</table>\n"
      ],
      "text/plain": [
       "+--------+\n",
       "|count(1)|\n",
       "+--------+\n",
       "|      69|\n",
       "+--------+"
      ]
     },
     "execution_count": 14,
     "metadata": {},
     "output_type": "execute_result"
    }
   ],
   "source": [
    "spark.sql(\"select count(*) from loan_repayments where total_principal_received is null\")"
   ]
  },
  {
   "cell_type": "code",
   "execution_count": 15,
   "id": "55b2457d",
   "metadata": {},
   "outputs": [],
   "source": [
    "columns_to_check = [\"total_principal_received\", \"total_interest_received\", \"total_late_fee_received\", \"total_payment_received\", \"last_payment_amount\"]"
   ]
  },
  {
   "cell_type": "code",
   "execution_count": 16,
   "id": "5535d178",
   "metadata": {},
   "outputs": [],
   "source": [
    "loans_repay_filtered_df = loans_repay_df_ingestd.na.drop(subset=columns_to_check)"
   ]
  },
  {
   "cell_type": "code",
   "execution_count": 17,
   "id": "69a1efd0",
   "metadata": {},
   "outputs": [
    {
     "data": {
      "text/plain": [
       "2260498"
      ]
     },
     "execution_count": 17,
     "metadata": {},
     "output_type": "execute_result"
    }
   ],
   "source": [
    "loans_repay_filtered_df.count()"
   ]
  },
  {
   "cell_type": "code",
   "execution_count": 18,
   "id": "50156e67",
   "metadata": {},
   "outputs": [],
   "source": [
    "loans_repay_filtered_df.createOrReplaceTempView(\"loan_repayments\")"
   ]
  },
  {
   "cell_type": "code",
   "execution_count": 19,
   "id": "02c52fa6",
   "metadata": {},
   "outputs": [
    {
     "data": {
      "text/html": [
       "<table border='1'>\n",
       "<tr><th>count(1)</th></tr>\n",
       "<tr><td>995</td></tr>\n",
       "</table>\n"
      ],
      "text/plain": [
       "+--------+\n",
       "|count(1)|\n",
       "+--------+\n",
       "|     995|\n",
       "+--------+"
      ]
     },
     "execution_count": 19,
     "metadata": {},
     "output_type": "execute_result"
    }
   ],
   "source": [
    "spark.sql(\"select count(*) from loan_repayments where total_payment_received = 0.0\")"
   ]
  },
  {
   "cell_type": "code",
   "execution_count": 20,
   "id": "e5298549",
   "metadata": {},
   "outputs": [
    {
     "data": {
      "text/html": [
       "<table border='1'>\n",
       "<tr><th>count(1)</th></tr>\n",
       "<tr><td>46</td></tr>\n",
       "</table>\n"
      ],
      "text/plain": [
       "+--------+\n",
       "|count(1)|\n",
       "+--------+\n",
       "|      46|\n",
       "+--------+"
      ]
     },
     "execution_count": 20,
     "metadata": {},
     "output_type": "execute_result"
    }
   ],
   "source": [
    "spark.sql(\"select count(*) from loan_repayments where total_payment_received = 0.0 and total_principal_received != 0.0\")"
   ]
  },
  {
   "cell_type": "code",
   "execution_count": 21,
   "id": "7ffe209f",
   "metadata": {},
   "outputs": [
    {
     "data": {
      "text/html": [
       "<table border='1'>\n",
       "<tr><th>loan_id</th><th>total_principal_received</th><th>total_interest_received</th><th>total_late_fee_received</th><th>total_payment_received</th><th>last_payment_amount</th><th>last_payment_date</th><th>next_payment_date</th><th>ingest_date</th></tr>\n",
       "<tr><td>1064185</td><td>11600.98</td><td>11600.98</td><td>10000.0</td><td>0.0</td><td>0.0</td><td>0.0</td><td>Dec-2014</td><td>2023-10-04 05:40:...</td></tr>\n",
       "<tr><td>516382</td><td>21890.229</td><td>21856.03</td><td>16000.0</td><td>0.0</td><td>0.0</td><td>0.0</td><td>Mar-2014</td><td>2023-10-04 05:40:...</td></tr>\n",
       "<tr><td>528899</td><td>3045.0364</td><td>3019.64</td><td>2500.0</td><td>0.0</td><td>0.0</td><td>0.0</td><td>Jan-2013</td><td>2023-10-04 05:40:...</td></tr>\n",
       "<tr><td>527598</td><td>2398.9092</td><td>2220.51</td><td>2200.0</td><td>0.0</td><td>0.0</td><td>0.0</td><td>Jul-2011</td><td>2023-10-04 05:40:...</td></tr>\n",
       "<tr><td>525697</td><td>21797.86</td><td>19894.9</td><td>15750.0</td><td>0.0</td><td>0.0</td><td>0.0</td><td>Jun-2015</td><td>2023-10-04 05:40:...</td></tr>\n",
       "<tr><td>522641</td><td>3146.8193</td><td>3146.82</td><td>3000.0</td><td>0.0</td><td>0.0</td><td>0.0</td><td>Sep-2011</td><td>2023-10-04 05:40:...</td></tr>\n",
       "<tr><td>515655</td><td>29938.576</td><td>29905.75</td><td>22800.0</td><td>0.0</td><td>0.0</td><td>0.0</td><td>May-2013</td><td>2023-10-04 05:40:...</td></tr>\n",
       "<tr><td>501234</td><td>15219.313</td><td>15155.9</td><td>12000.0</td><td>0.0</td><td>0.0</td><td>0.0</td><td>May-2013</td><td>2023-10-04 05:40:...</td></tr>\n",
       "<tr><td>498194</td><td>11642.714</td><td>11031.47</td><td>10000.0</td><td>0.0</td><td>0.0</td><td>0.0</td><td>Jan-2013</td><td>2023-10-04 05:40:...</td></tr>\n",
       "<tr><td>495171</td><td>11138.843</td><td>10024.96</td><td>10000.0</td><td>0.0</td><td>0.0</td><td>0.0</td><td>Apr-2013</td><td>2023-10-04 05:40:...</td></tr>\n",
       "<tr><td>493508</td><td>28732.803</td><td>28495.83</td><td>24250.0</td><td>0.0</td><td>0.0</td><td>0.0</td><td>Apr-2013</td><td>2023-10-04 05:40:...</td></tr>\n",
       "<tr><td>485818</td><td>14640.096</td><td>13388.84</td><td>13000.0</td><td>0.0</td><td>0.0</td><td>0.0</td><td>Mar-2013</td><td>2023-10-04 05:40:...</td></tr>\n",
       "<tr><td>485471</td><td>29620.818</td><td>29134.64</td><td>25000.0</td><td>0.0</td><td>0.0</td><td>0.0</td><td>Mar-2013</td><td>2023-10-04 05:40:...</td></tr>\n",
       "<tr><td>482256</td><td>8735.611</td><td>7479.87</td><td>8000.0</td><td>0.0</td><td>0.0</td><td>0.0</td><td>Feb-2011</td><td>2023-10-04 05:40:...</td></tr>\n",
       "<tr><td>478160</td><td>410.0</td><td>407.36</td><td>0.0</td><td>0.0</td><td>143.1</td><td>410.0</td><td>null</td><td>2023-10-04 05:40:...</td></tr>\n",
       "<tr><td>476557</td><td>28865.18</td><td>24164.67</td><td>5692.31</td><td>0.0</td><td>6972.59</td><td>19916.78</td><td>Dec-2010</td><td>2023-10-04 05:40:...</td></tr>\n",
       "<tr><td>472516</td><td>25951.482</td><td>24731.76</td><td>25000.0</td><td>0.0</td><td>0.0</td><td>0.0</td><td>May-2010</td><td>2023-10-04 05:40:...</td></tr>\n",
       "<tr><td>472197</td><td>12048.13</td><td>12018.01</td><td>10000.0</td><td>0.0</td><td>0.0</td><td>0.0</td><td>Jan-2013</td><td>2023-10-04 05:40:...</td></tr>\n",
       "<tr><td>467364</td><td>29216.791</td><td>29066.19</td><td>24250.0</td><td>0.0</td><td>0.0</td><td>0.0</td><td>Dec-2012</td><td>2023-10-04 05:40:...</td></tr>\n",
       "<tr><td>399499</td><td>26557.729</td><td>26336.41</td><td>24000.0</td><td>0.0</td><td>0.0</td><td>0.0</td><td>Dec-2010</td><td>2023-10-04 05:40:...</td></tr>\n",
       "</table>\n",
       "only showing top 20 rows\n"
      ],
      "text/plain": [
       "+-------+------------------------+-----------------------+-----------------------+----------------------+-------------------+-----------------+-----------------+--------------------+\n",
       "|loan_id|total_principal_received|total_interest_received|total_late_fee_received|total_payment_received|last_payment_amount|last_payment_date|next_payment_date|         ingest_date|\n",
       "+-------+------------------------+-----------------------+-----------------------+----------------------+-------------------+-----------------+-----------------+--------------------+\n",
       "|1064185|                11600.98|               11600.98|                10000.0|                   0.0|                0.0|              0.0|         Dec-2014|2023-10-04 05:40:...|\n",
       "| 516382|               21890.229|               21856.03|                16000.0|                   0.0|                0.0|              0.0|         Mar-2014|2023-10-04 05:40:...|\n",
       "| 528899|               3045.0364|                3019.64|                 2500.0|                   0.0|                0.0|              0.0|         Jan-2013|2023-10-04 05:40:...|\n",
       "| 527598|               2398.9092|                2220.51|                 2200.0|                   0.0|                0.0|              0.0|         Jul-2011|2023-10-04 05:40:...|\n",
       "| 525697|                21797.86|                19894.9|                15750.0|                   0.0|                0.0|              0.0|         Jun-2015|2023-10-04 05:40:...|\n",
       "| 522641|               3146.8193|                3146.82|                 3000.0|                   0.0|                0.0|              0.0|         Sep-2011|2023-10-04 05:40:...|\n",
       "| 515655|               29938.576|               29905.75|                22800.0|                   0.0|                0.0|              0.0|         May-2013|2023-10-04 05:40:...|\n",
       "| 501234|               15219.313|                15155.9|                12000.0|                   0.0|                0.0|              0.0|         May-2013|2023-10-04 05:40:...|\n",
       "| 498194|               11642.714|               11031.47|                10000.0|                   0.0|                0.0|              0.0|         Jan-2013|2023-10-04 05:40:...|\n",
       "| 495171|               11138.843|               10024.96|                10000.0|                   0.0|                0.0|              0.0|         Apr-2013|2023-10-04 05:40:...|\n",
       "| 493508|               28732.803|               28495.83|                24250.0|                   0.0|                0.0|              0.0|         Apr-2013|2023-10-04 05:40:...|\n",
       "| 485818|               14640.096|               13388.84|                13000.0|                   0.0|                0.0|              0.0|         Mar-2013|2023-10-04 05:40:...|\n",
       "| 485471|               29620.818|               29134.64|                25000.0|                   0.0|                0.0|              0.0|         Mar-2013|2023-10-04 05:40:...|\n",
       "| 482256|                8735.611|                7479.87|                 8000.0|                   0.0|                0.0|              0.0|         Feb-2011|2023-10-04 05:40:...|\n",
       "| 478160|                   410.0|                 407.36|                    0.0|                   0.0|              143.1|            410.0|             null|2023-10-04 05:40:...|\n",
       "| 476557|                28865.18|               24164.67|                5692.31|                   0.0|            6972.59|         19916.78|         Dec-2010|2023-10-04 05:40:...|\n",
       "| 472516|               25951.482|               24731.76|                25000.0|                   0.0|                0.0|              0.0|         May-2010|2023-10-04 05:40:...|\n",
       "| 472197|                12048.13|               12018.01|                10000.0|                   0.0|                0.0|              0.0|         Jan-2013|2023-10-04 05:40:...|\n",
       "| 467364|               29216.791|               29066.19|                24250.0|                   0.0|                0.0|              0.0|         Dec-2012|2023-10-04 05:40:...|\n",
       "| 399499|               26557.729|               26336.41|                24000.0|                   0.0|                0.0|              0.0|         Dec-2010|2023-10-04 05:40:...|\n",
       "+-------+------------------------+-----------------------+-----------------------+----------------------+-------------------+-----------------+-----------------+--------------------+\n",
       "only showing top 20 rows"
      ]
     },
     "execution_count": 21,
     "metadata": {},
     "output_type": "execute_result"
    }
   ],
   "source": [
    "spark.sql(\"select * from loan_repayments where total_payment_received = 0.0 and total_principal_received != 0.0\")"
   ]
  },
  {
   "cell_type": "code",
   "execution_count": 22,
   "id": "5db2b865",
   "metadata": {},
   "outputs": [],
   "source": [
    "from pyspark.sql.functions import when, col"
   ]
  },
  {
   "cell_type": "code",
   "execution_count": 23,
   "id": "beed2911",
   "metadata": {},
   "outputs": [],
   "source": [
    "loans_payments_fixed_df = loans_repay_filtered_df.withColumn(\n",
    "   \"total_payment_received\",\n",
    "    when(\n",
    "        (col(\"total_principal_received\") != 0.0) &\n",
    "        (col(\"total_payment_received\") == 0.0),\n",
    "        col(\"total_principal_received\") + col(\"total_interest_received\") + col(\"total_late_fee_received\")\n",
    "    ).otherwise(col(\"total_payment_received\"))\n",
    ")"
   ]
  },
  {
   "cell_type": "code",
   "execution_count": 24,
   "id": "c6ee8e0e",
   "metadata": {},
   "outputs": [
    {
     "data": {
      "text/html": [
       "<table border='1'>\n",
       "<tr><th>loan_id</th><th>total_principal_received</th><th>total_interest_received</th><th>total_late_fee_received</th><th>total_payment_received</th><th>last_payment_amount</th><th>last_payment_date</th><th>next_payment_date</th><th>ingest_date</th></tr>\n",
       "<tr><td>141581221</td><td>1055.81</td><td>2591.7</td><td>0.0</td><td>3647.51</td><td>709.23</td><td>Mar-2019</td><td>Apr-2019</td><td>2023-10-04 05:40:...</td></tr>\n",
       "<tr><td>141506948</td><td>1252.75</td><td>306.04</td><td>0.0</td><td>1558.79</td><td>312.63</td><td>Mar-2019</td><td>Apr-2019</td><td>2023-10-04 05:40:...</td></tr>\n",
       "<tr><td>141357400</td><td>626.37</td><td>354.96</td><td>0.0</td><td>981.33</td><td>197.27</td><td>Mar-2019</td><td>Apr-2019</td><td>2023-10-04 05:40:...</td></tr>\n",
       "<tr><td>139445427</td><td>1118.16</td><td>297.36</td><td>0.0</td><td>1415.52</td><td>283.95</td><td>Mar-2019</td><td>Apr-2019</td><td>2023-10-04 05:40:...</td></tr>\n",
       "<tr><td>141407409</td><td>1169.72</td><td>3605.3</td><td>0.0</td><td>4775.02</td><td>964.9</td><td>Mar-2019</td><td>Apr-2019</td><td>2023-10-04 05:40:...</td></tr>\n",
       "<tr><td>141360802</td><td>2313.98</td><td>2512.88</td><td>0.0</td><td>4826.86</td><td>952.02</td><td>Mar-2019</td><td>Apr-2019</td><td>2023-10-04 05:40:...</td></tr>\n",
       "<tr><td>141163960</td><td>4689.63</td><td>1994.93</td><td>0.0</td><td>6684.56</td><td>1342.57</td><td>Mar-2019</td><td>Apr-2019</td><td>2023-10-04 05:40:...</td></tr>\n",
       "<tr><td>141533932</td><td>585.29</td><td>640.53</td><td>15.0</td><td>1240.82</td><td>235.13</td><td>Mar-2019</td><td>Apr-2019</td><td>2023-10-04 05:40:...</td></tr>\n",
       "<tr><td>141441276</td><td>2030.82</td><td>762.81</td><td>0.0</td><td>2793.63</td><td>477.62</td><td>Mar-2019</td><td>Apr-2019</td><td>2023-10-04 05:40:...</td></tr>\n",
       "<tr><td>141569080</td><td>1803.55</td><td>1110.59</td><td>0.0</td><td>2914.14</td><td>585.91</td><td>Mar-2019</td><td>Apr-2019</td><td>2023-10-04 05:40:...</td></tr>\n",
       "<tr><td>140961277</td><td>1144.71</td><td>559.56</td><td>0.0</td><td>1704.27</td><td>344.07</td><td>Mar-2019</td><td>Apr-2019</td><td>2023-10-04 05:40:...</td></tr>\n",
       "<tr><td>141466656</td><td>1297.9</td><td>838.42</td><td>0.0</td><td>2136.32</td><td>429.59</td><td>Mar-2019</td><td>Apr-2019</td><td>2023-10-04 05:40:...</td></tr>\n",
       "<tr><td>141575085</td><td>613.26</td><td>510.47</td><td>0.0</td><td>1123.73</td><td>226.16</td><td>Mar-2019</td><td>Apr-2019</td><td>2023-10-04 05:40:...</td></tr>\n",
       "<tr><td>141429235</td><td>4008.76</td><td>1058.83</td><td>0.0</td><td>5067.59</td><td>1000.41</td><td>Mar-2019</td><td>Apr-2019</td><td>2023-10-04 05:40:...</td></tr>\n",
       "<tr><td>141545082</td><td>1297.9</td><td>838.42</td><td>0.0</td><td>2136.32</td><td>429.59</td><td>Mar-2019</td><td>Apr-2019</td><td>2023-10-04 05:40:...</td></tr>\n",
       "<tr><td>141584203</td><td>747.08</td><td>243.73</td><td>0.0</td><td>990.81</td><td>193.84</td><td>Mar-2019</td><td>Apr-2019</td><td>2023-10-04 05:40:...</td></tr>\n",
       "<tr><td>141201047</td><td>2266.29</td><td>1184.57</td><td>34.68</td><td>3485.54</td><td>693.51</td><td>Mar-2019</td><td>Apr-2019</td><td>2023-10-04 05:40:...</td></tr>\n",
       "<tr><td>140580869</td><td>1450.9</td><td>491.42</td><td>0.0</td><td>1942.32</td><td>389.86</td><td>Mar-2019</td><td>Apr-2019</td><td>2023-10-04 05:40:...</td></tr>\n",
       "<tr><td>141539871</td><td>2290.47</td><td>468.26</td><td>0.0</td><td>2758.73</td><td>553.08</td><td>Mar-2019</td><td>Apr-2019</td><td>2023-10-04 05:40:...</td></tr>\n",
       "<tr><td>141386443</td><td>1173.43</td><td>1161.79</td><td>0.0</td><td>2335.22</td><td>470.26</td><td>Mar-2019</td><td>Apr-2019</td><td>2023-10-04 05:40:...</td></tr>\n",
       "</table>\n",
       "only showing top 20 rows\n"
      ],
      "text/plain": [
       "+---------+------------------------+-----------------------+-----------------------+----------------------+-------------------+-----------------+-----------------+--------------------+\n",
       "|  loan_id|total_principal_received|total_interest_received|total_late_fee_received|total_payment_received|last_payment_amount|last_payment_date|next_payment_date|         ingest_date|\n",
       "+---------+------------------------+-----------------------+-----------------------+----------------------+-------------------+-----------------+-----------------+--------------------+\n",
       "|141581221|                 1055.81|                 2591.7|                    0.0|               3647.51|             709.23|         Mar-2019|         Apr-2019|2023-10-04 05:40:...|\n",
       "|141506948|                 1252.75|                 306.04|                    0.0|               1558.79|             312.63|         Mar-2019|         Apr-2019|2023-10-04 05:40:...|\n",
       "|141357400|                  626.37|                 354.96|                    0.0|                981.33|             197.27|         Mar-2019|         Apr-2019|2023-10-04 05:40:...|\n",
       "|139445427|                 1118.16|                 297.36|                    0.0|               1415.52|             283.95|         Mar-2019|         Apr-2019|2023-10-04 05:40:...|\n",
       "|141407409|                 1169.72|                 3605.3|                    0.0|               4775.02|              964.9|         Mar-2019|         Apr-2019|2023-10-04 05:40:...|\n",
       "|141360802|                 2313.98|                2512.88|                    0.0|               4826.86|             952.02|         Mar-2019|         Apr-2019|2023-10-04 05:40:...|\n",
       "|141163960|                 4689.63|                1994.93|                    0.0|               6684.56|            1342.57|         Mar-2019|         Apr-2019|2023-10-04 05:40:...|\n",
       "|141533932|                  585.29|                 640.53|                   15.0|               1240.82|             235.13|         Mar-2019|         Apr-2019|2023-10-04 05:40:...|\n",
       "|141441276|                 2030.82|                 762.81|                    0.0|               2793.63|             477.62|         Mar-2019|         Apr-2019|2023-10-04 05:40:...|\n",
       "|141569080|                 1803.55|                1110.59|                    0.0|               2914.14|             585.91|         Mar-2019|         Apr-2019|2023-10-04 05:40:...|\n",
       "|140961277|                 1144.71|                 559.56|                    0.0|               1704.27|             344.07|         Mar-2019|         Apr-2019|2023-10-04 05:40:...|\n",
       "|141466656|                  1297.9|                 838.42|                    0.0|               2136.32|             429.59|         Mar-2019|         Apr-2019|2023-10-04 05:40:...|\n",
       "|141575085|                  613.26|                 510.47|                    0.0|               1123.73|             226.16|         Mar-2019|         Apr-2019|2023-10-04 05:40:...|\n",
       "|141429235|                 4008.76|                1058.83|                    0.0|               5067.59|            1000.41|         Mar-2019|         Apr-2019|2023-10-04 05:40:...|\n",
       "|141545082|                  1297.9|                 838.42|                    0.0|               2136.32|             429.59|         Mar-2019|         Apr-2019|2023-10-04 05:40:...|\n",
       "|141584203|                  747.08|                 243.73|                    0.0|                990.81|             193.84|         Mar-2019|         Apr-2019|2023-10-04 05:40:...|\n",
       "|141201047|                 2266.29|                1184.57|                  34.68|               3485.54|             693.51|         Mar-2019|         Apr-2019|2023-10-04 05:40:...|\n",
       "|140580869|                  1450.9|                 491.42|                    0.0|               1942.32|             389.86|         Mar-2019|         Apr-2019|2023-10-04 05:40:...|\n",
       "|141539871|                 2290.47|                 468.26|                    0.0|               2758.73|             553.08|         Mar-2019|         Apr-2019|2023-10-04 05:40:...|\n",
       "|141386443|                 1173.43|                1161.79|                    0.0|               2335.22|             470.26|         Mar-2019|         Apr-2019|2023-10-04 05:40:...|\n",
       "+---------+------------------------+-----------------------+-----------------------+----------------------+-------------------+-----------------+-----------------+--------------------+\n",
       "only showing top 20 rows"
      ]
     },
     "execution_count": 24,
     "metadata": {},
     "output_type": "execute_result"
    }
   ],
   "source": [
    "loans_payments_fixed_df"
   ]
  },
  {
   "cell_type": "code",
   "execution_count": 25,
   "id": "f1f92e72",
   "metadata": {},
   "outputs": [
    {
     "data": {
      "text/html": [
       "<table border='1'>\n",
       "<tr><th>loan_id</th><th>total_principal_received</th><th>total_interest_received</th><th>total_late_fee_received</th><th>total_payment_received</th><th>last_payment_amount</th><th>last_payment_date</th><th>next_payment_date</th><th>ingest_date</th></tr>\n",
       "<tr><td>1064185</td><td>11600.98</td><td>11600.98</td><td>10000.0</td><td>33201.96</td><td>0.0</td><td>0.0</td><td>Dec-2014</td><td>2023-10-04 05:40:...</td></tr>\n",
       "</table>\n"
      ],
      "text/plain": [
       "+-------+------------------------+-----------------------+-----------------------+----------------------+-------------------+-----------------+-----------------+--------------------+\n",
       "|loan_id|total_principal_received|total_interest_received|total_late_fee_received|total_payment_received|last_payment_amount|last_payment_date|next_payment_date|         ingest_date|\n",
       "+-------+------------------------+-----------------------+-----------------------+----------------------+-------------------+-----------------+-----------------+--------------------+\n",
       "|1064185|                11600.98|               11600.98|                10000.0|              33201.96|                0.0|              0.0|         Dec-2014|2023-10-04 05:40:...|\n",
       "+-------+------------------------+-----------------------+-----------------------+----------------------+-------------------+-----------------+-----------------+--------------------+"
      ]
     },
     "execution_count": 25,
     "metadata": {},
     "output_type": "execute_result"
    }
   ],
   "source": [
    "loans_payments_fixed_df.filter(\"loan_id == '1064185'\")"
   ]
  },
  {
   "cell_type": "code",
   "execution_count": 26,
   "id": "669ab574",
   "metadata": {},
   "outputs": [],
   "source": [
    "loans_payments_fixed2_df = loans_payments_fixed_df.filter(\"total_payment_received != 0.0\")"
   ]
  },
  {
   "cell_type": "code",
   "execution_count": 27,
   "id": "6aba2e59",
   "metadata": {},
   "outputs": [
    {
     "data": {
      "text/plain": [
       "48"
      ]
     },
     "execution_count": 27,
     "metadata": {},
     "output_type": "execute_result"
    }
   ],
   "source": [
    "loans_payments_fixed2_df.filter(\"last_payment_date = 0.0\").count()"
   ]
  },
  {
   "cell_type": "code",
   "execution_count": 28,
   "id": "9c7bf7b4",
   "metadata": {},
   "outputs": [
    {
     "data": {
      "text/plain": [
       "24"
      ]
     },
     "execution_count": 28,
     "metadata": {},
     "output_type": "execute_result"
    }
   ],
   "source": [
    "loans_payments_fixed2_df.filter(\"next_payment_date = 0.0\").count()"
   ]
  },
  {
   "cell_type": "code",
   "execution_count": 29,
   "id": "c950d8c1",
   "metadata": {},
   "outputs": [
    {
     "data": {
      "text/plain": [
       "1477"
      ]
     },
     "execution_count": 29,
     "metadata": {},
     "output_type": "execute_result"
    }
   ],
   "source": [
    "loans_payments_fixed2_df.filter(\"last_payment_date is null\").count()"
   ]
  },
  {
   "cell_type": "code",
   "execution_count": 30,
   "id": "8b39cee3",
   "metadata": {},
   "outputs": [
    {
     "data": {
      "text/plain": [
       "1344240"
      ]
     },
     "execution_count": 30,
     "metadata": {},
     "output_type": "execute_result"
    }
   ],
   "source": [
    "loans_payments_fixed2_df.filter(\"next_payment_date is null\").count()"
   ]
  },
  {
   "cell_type": "code",
   "execution_count": 31,
   "id": "0f468530",
   "metadata": {},
   "outputs": [],
   "source": [
    "loans_payments_ldate_fixed_df = loans_payments_fixed2_df.withColumn(\n",
    "  \"last_payment_date\",\n",
    "   when(\n",
    "       (col(\"last_payment_date\") == 0.0),\n",
    "       None\n",
    "       ).otherwise(col(\"last_payment_date\"))\n",
    ")"
   ]
  },
  {
   "cell_type": "code",
   "execution_count": 32,
   "id": "ce4e1814",
   "metadata": {},
   "outputs": [],
   "source": [
    "loans_payments_ndate_fixed_df = loans_payments_ldate_fixed_df.withColumn(\n",
    "  \"last_payment_date\",\n",
    "   when(\n",
    "       (col(\"next_payment_date\") == 0.0),\n",
    "       None\n",
    "       ).otherwise(col(\"next_payment_date\"))\n",
    ")"
   ]
  },
  {
   "cell_type": "code",
   "execution_count": 33,
   "id": "5469065f",
   "metadata": {},
   "outputs": [
    {
     "data": {
      "text/plain": [
       "0"
      ]
     },
     "execution_count": 33,
     "metadata": {},
     "output_type": "execute_result"
    }
   ],
   "source": [
    "loans_payments_ndate_fixed_df.filter(\"last_payment_date = 0.0\").count()"
   ]
  },
  {
   "cell_type": "code",
   "execution_count": 34,
   "id": "4ad3c1d8",
   "metadata": {},
   "outputs": [
    {
     "data": {
      "text/plain": [
       "24"
      ]
     },
     "execution_count": 34,
     "metadata": {},
     "output_type": "execute_result"
    }
   ],
   "source": [
    "loans_payments_ndate_fixed_df.filter(\"next_payment_date = 0.0\").count()"
   ]
  },
  {
   "cell_type": "code",
   "execution_count": 35,
   "id": "62aa6ed3",
   "metadata": {},
   "outputs": [],
   "source": [
    "loans_payments_ndate_fixed_df.write \\\n",
    ".format(\"parquet\") \\\n",
    ".mode(\"overwrite\") \\\n",
    ".option(\"path\", \"/user/itv006277/lendingclubproject/raw/cleaned/loans_repayments_parquet\") \\\n",
    ".save()"
   ]
  },
  {
   "cell_type": "code",
   "execution_count": 36,
   "id": "e34b7e2d",
   "metadata": {},
   "outputs": [],
   "source": [
    "loans_payments_ndate_fixed_df.write \\\n",
    ".option(\"header\", True) \\\n",
    ".format(\"csv\") \\\n",
    ".mode(\"overwrite\") \\\n",
    ".option(\"path\", \"/user/itv006277/lendingclubproject/raw/cleaned/loans_repayments_csv\") \\\n",
    ".save()"
   ]
  },
  {
   "cell_type": "code",
   "execution_count": null,
   "id": "4d90dd32",
   "metadata": {},
   "outputs": [],
   "source": []
  },
  {
   "cell_type": "code",
   "execution_count": null,
   "id": "c3e8fe0f",
   "metadata": {},
   "outputs": [],
   "source": []
  }
 ],
 "metadata": {
  "kernelspec": {
   "display_name": "Pyspark 3",
   "language": "python",
   "name": "pyspark3"
  },
  "language_info": {
   "codemirror_mode": {
    "name": "ipython",
    "version": 3
   },
   "file_extension": ".py",
   "mimetype": "text/x-python",
   "name": "python",
   "nbconvert_exporter": "python",
   "pygments_lexer": "ipython3",
   "version": "3.6.12"
  }
 },
 "nbformat": 4,
 "nbformat_minor": 5
}
